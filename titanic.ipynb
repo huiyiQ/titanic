{
  "cells": [
    {
      "cell_type": "code",
      "execution_count": 1,
      "metadata": {
        "id": "mU8HORKbuA7q",
        "papermill": {
          "duration": 1.495149,
          "end_time": "2021-04-25T23:12:29.79692",
          "exception": false,
          "start_time": "2021-04-25T23:12:28.301771",
          "status": "completed"
        },
        "tags": [],
        "trusted": true
      },
      "outputs": [],
      "source": [
        "# Libraries used\n",
        "import numpy as np \n",
        "import pandas as pd \n",
        "import seaborn as sns\n",
        "import matplotlib.pyplot as plt\n",
        "\n",
        "from sklearn.preprocessing import LabelEncoder, StandardScaler\n",
        "from sklearn.tree import DecisionTreeClassifier\n",
        "from sklearn.model_selection import cross_val_score\n",
        "\n",
        "from numpy.random import seed\n",
        "seed(244)"
      ]
    },
    {
      "cell_type": "markdown",
      "metadata": {
        "id": "2lS32spduA7m",
        "papermill": {
          "duration": 0.049211,
          "end_time": "2021-04-25T23:12:27.980577",
          "exception": false,
          "start_time": "2021-04-25T23:12:27.931366",
          "status": "completed"
        },
        "tags": []
      },
      "source": [
        "# Load Data"
      ]
    },
    {
      "cell_type": "code",
      "execution_count": 2,
      "metadata": {
        "colab": {
          "base_uri": "https://localhost:8080/",
          "height": 236
        },
        "id": "DpMRIrRyuA7r",
        "outputId": "d6c8d5df-13bb-45d0-e53c-71820eb937ca",
        "papermill": {
          "duration": 0.139878,
          "end_time": "2021-04-25T23:12:29.982812",
          "exception": false,
          "start_time": "2021-04-25T23:12:29.842934",
          "status": "completed"
        },
        "tags": [],
        "trusted": true
      },
      "outputs": [
        {
          "data": {
            "text/html": [
              "<div>\n",
              "<style scoped>\n",
              "    .dataframe tbody tr th:only-of-type {\n",
              "        vertical-align: middle;\n",
              "    }\n",
              "\n",
              "    .dataframe tbody tr th {\n",
              "        vertical-align: top;\n",
              "    }\n",
              "\n",
              "    .dataframe thead th {\n",
              "        text-align: right;\n",
              "    }\n",
              "</style>\n",
              "<table border=\"1\" class=\"dataframe\">\n",
              "  <thead>\n",
              "    <tr style=\"text-align: right;\">\n",
              "      <th></th>\n",
              "      <th>Survived</th>\n",
              "      <th>Pclass</th>\n",
              "      <th>Name</th>\n",
              "      <th>Sex</th>\n",
              "      <th>Age</th>\n",
              "      <th>SibSp</th>\n",
              "      <th>Parch</th>\n",
              "      <th>Ticket</th>\n",
              "      <th>Fare</th>\n",
              "      <th>Cabin</th>\n",
              "      <th>Embarked</th>\n",
              "    </tr>\n",
              "    <tr>\n",
              "      <th>PassengerId</th>\n",
              "      <th></th>\n",
              "      <th></th>\n",
              "      <th></th>\n",
              "      <th></th>\n",
              "      <th></th>\n",
              "      <th></th>\n",
              "      <th></th>\n",
              "      <th></th>\n",
              "      <th></th>\n",
              "      <th></th>\n",
              "      <th></th>\n",
              "    </tr>\n",
              "  </thead>\n",
              "  <tbody>\n",
              "    <tr>\n",
              "      <th>1</th>\n",
              "      <td>0.0</td>\n",
              "      <td>3</td>\n",
              "      <td>Braund, Mr. Owen Harris</td>\n",
              "      <td>male</td>\n",
              "      <td>22.0</td>\n",
              "      <td>1</td>\n",
              "      <td>0</td>\n",
              "      <td>A/5 21171</td>\n",
              "      <td>7.2500</td>\n",
              "      <td>NaN</td>\n",
              "      <td>S</td>\n",
              "    </tr>\n",
              "    <tr>\n",
              "      <th>2</th>\n",
              "      <td>1.0</td>\n",
              "      <td>1</td>\n",
              "      <td>Cumings, Mrs. John Bradley (Florence Briggs Th...</td>\n",
              "      <td>female</td>\n",
              "      <td>38.0</td>\n",
              "      <td>1</td>\n",
              "      <td>0</td>\n",
              "      <td>PC 17599</td>\n",
              "      <td>71.2833</td>\n",
              "      <td>C85</td>\n",
              "      <td>C</td>\n",
              "    </tr>\n",
              "    <tr>\n",
              "      <th>3</th>\n",
              "      <td>1.0</td>\n",
              "      <td>3</td>\n",
              "      <td>Heikkinen, Miss. Laina</td>\n",
              "      <td>female</td>\n",
              "      <td>26.0</td>\n",
              "      <td>0</td>\n",
              "      <td>0</td>\n",
              "      <td>STON/O2. 3101282</td>\n",
              "      <td>7.9250</td>\n",
              "      <td>NaN</td>\n",
              "      <td>S</td>\n",
              "    </tr>\n",
              "    <tr>\n",
              "      <th>4</th>\n",
              "      <td>1.0</td>\n",
              "      <td>1</td>\n",
              "      <td>Futrelle, Mrs. Jacques Heath (Lily May Peel)</td>\n",
              "      <td>female</td>\n",
              "      <td>35.0</td>\n",
              "      <td>1</td>\n",
              "      <td>0</td>\n",
              "      <td>113803</td>\n",
              "      <td>53.1000</td>\n",
              "      <td>C123</td>\n",
              "      <td>S</td>\n",
              "    </tr>\n",
              "    <tr>\n",
              "      <th>5</th>\n",
              "      <td>0.0</td>\n",
              "      <td>3</td>\n",
              "      <td>Allen, Mr. William Henry</td>\n",
              "      <td>male</td>\n",
              "      <td>35.0</td>\n",
              "      <td>0</td>\n",
              "      <td>0</td>\n",
              "      <td>373450</td>\n",
              "      <td>8.0500</td>\n",
              "      <td>NaN</td>\n",
              "      <td>S</td>\n",
              "    </tr>\n",
              "  </tbody>\n",
              "</table>\n",
              "</div>"
            ],
            "text/plain": [
              "             Survived  Pclass  \\\n",
              "PassengerId                     \n",
              "1                 0.0       3   \n",
              "2                 1.0       1   \n",
              "3                 1.0       3   \n",
              "4                 1.0       1   \n",
              "5                 0.0       3   \n",
              "\n",
              "                                                          Name     Sex   Age  \\\n",
              "PassengerId                                                                    \n",
              "1                                      Braund, Mr. Owen Harris    male  22.0   \n",
              "2            Cumings, Mrs. John Bradley (Florence Briggs Th...  female  38.0   \n",
              "3                                       Heikkinen, Miss. Laina  female  26.0   \n",
              "4                 Futrelle, Mrs. Jacques Heath (Lily May Peel)  female  35.0   \n",
              "5                                     Allen, Mr. William Henry    male  35.0   \n",
              "\n",
              "             SibSp  Parch            Ticket     Fare Cabin Embarked  \n",
              "PassengerId                                                          \n",
              "1                1      0         A/5 21171   7.2500   NaN        S  \n",
              "2                1      0          PC 17599  71.2833   C85        C  \n",
              "3                0      0  STON/O2. 3101282   7.9250   NaN        S  \n",
              "4                1      0            113803  53.1000  C123        S  \n",
              "5                0      0            373450   8.0500   NaN        S  "
            ]
          },
          "execution_count": 2,
          "metadata": {},
          "output_type": "execute_result"
        }
      ],
      "source": [
        "path = \"./data-144-kaggle-competition/\"\n",
        "train = pd.read_csv(path + 'train.csv', header=0)\n",
        "test = pd.read_csv(path + 'test.csv', header=0)\n",
        "\n",
        "train = train.set_index(\"PassengerId\")\n",
        "test = test.set_index(\"PassengerId\")\n",
        "\n",
        "df = pd.concat([train, test], axis=0, sort=False)\n",
        "df.head()"
      ]
    },
    {
      "cell_type": "markdown",
      "metadata": {},
      "source": [
        "## Data Dictionary\n",
        "\n",
        "*   **Survived** : Survival, 0 = No, 1 = Yes\n",
        "*   **Pclass** : Ticket class, 1 = 1st, 2 = 2nd, 3 = 3rd\n",
        "*   **Sex** : Sex\n",
        "*   **Age**: Age in years\n",
        "*   **SibSp**: Number of siblings / spouses aboard the Titanic\n",
        "*   **Parch**: Number of parents / children aboard the Titanic\n",
        "*   **Ticket**: Ticket number\n",
        "*   **Fare**: Passenger fare\n",
        "*   **Cabin**: Cabin number\n",
        "*   **Embarked**: Part of Embarkation, C = Cherbourg, Q = Queenstown, S = Southampton\n",
        "\n",
        "## Variable Notes\n",
        "\n",
        "*   Pclass: A proxy for socio-economic status (SES) 1st = Upper 2nd = Middle 3rd = Lower\n",
        "\n",
        "*   Age: Age is fractional if less than 1. If the age is estimated, is it in the form of xx.5\n",
        "\n",
        "*   SibSp: The number of siblings/spouses\n",
        "\n",
        "*   Parch: The number of parents/children\n",
        "*   Some children travelled only with a nanny, therefore parch=0 for them."
      ]
    },
    {
      "cell_type": "markdown",
      "metadata": {
        "id": "17xiyUSKaj8N"
      },
      "source": [
        "# 1. EDA"
      ]
    },
    {
      "cell_type": "code",
      "execution_count": 3,
      "metadata": {
        "colab": {
          "base_uri": "https://localhost:8080/"
        },
        "id": "Lu-iKb89H79i",
        "outputId": "3586b06a-9cf6-4e4a-a552-edb08812f4dc"
      },
      "outputs": [
        {
          "data": {
            "text/plain": [
              "Pclass    3\n",
              "dtype: int64"
            ]
          },
          "execution_count": 3,
          "metadata": {},
          "output_type": "execute_result"
        }
      ],
      "source": [
        "ordinal = ['Pclass']\n",
        "df[ordinal].nunique()"
      ]
    },
    {
      "cell_type": "code",
      "execution_count": 4,
      "metadata": {
        "colab": {
          "base_uri": "https://localhost:8080/"
        },
        "id": "c9CSIoibCG-c",
        "outputId": "f873c47a-208e-40fa-85e5-860de3603e47"
      },
      "outputs": [
        {
          "data": {
            "text/plain": [
              "Name        1307\n",
              "Sex            2\n",
              "Ticket       929\n",
              "Cabin        186\n",
              "Embarked       3\n",
              "dtype: int64"
            ]
          },
          "execution_count": 4,
          "metadata": {},
          "output_type": "execute_result"
        }
      ],
      "source": [
        "categorical = ['Name', 'Sex', 'Ticket', 'Cabin', 'Embarked']\n",
        "df[categorical].nunique()"
      ]
    },
    {
      "cell_type": "code",
      "execution_count": 5,
      "metadata": {
        "colab": {
          "base_uri": "https://localhost:8080/"
        },
        "id": "aCmkTSBIHUEJ",
        "outputId": "26c994b6-96eb-4d72-e439-7732a1a761c5"
      },
      "outputs": [
        {
          "name": "stdout",
          "output_type": "stream",
          "text": [
            "--- unique values in features ---\n",
            "Pclass:     [3 1 2]\n",
            "Sex:        ['male' 'female']\n",
            "Embarked:   ['S' 'C' 'Q' nan]\n"
          ]
        }
      ],
      "source": [
        "print('--- unique values in features ---')\n",
        "print('Pclass:\\t{}'.format(df.Pclass.unique()).expandtabs(12))\n",
        "print('Sex:\\t{}'.format(df.Sex.unique()).expandtabs(12))\n",
        "print('Embarked:\\t{}'.format(df.Embarked.unique()).expandtabs(12))"
      ]
    },
    {
      "cell_type": "code",
      "execution_count": 6,
      "metadata": {
        "colab": {
          "base_uri": "https://localhost:8080/",
          "height": 299
        },
        "id": "ZDNj7x9iC4lL",
        "outputId": "91f8a9b2-883a-47cd-f894-0346eafb543e"
      },
      "outputs": [
        {
          "data": {
            "text/html": [
              "<div>\n",
              "<style scoped>\n",
              "    .dataframe tbody tr th:only-of-type {\n",
              "        vertical-align: middle;\n",
              "    }\n",
              "\n",
              "    .dataframe tbody tr th {\n",
              "        vertical-align: top;\n",
              "    }\n",
              "\n",
              "    .dataframe thead th {\n",
              "        text-align: right;\n",
              "    }\n",
              "</style>\n",
              "<table border=\"1\" class=\"dataframe\">\n",
              "  <thead>\n",
              "    <tr style=\"text-align: right;\">\n",
              "      <th></th>\n",
              "      <th>Age</th>\n",
              "      <th>SibSp</th>\n",
              "      <th>Parch</th>\n",
              "      <th>Fare</th>\n",
              "    </tr>\n",
              "  </thead>\n",
              "  <tbody>\n",
              "    <tr>\n",
              "      <th>count</th>\n",
              "      <td>1046.000000</td>\n",
              "      <td>1309.000000</td>\n",
              "      <td>1309.000000</td>\n",
              "      <td>1308.000000</td>\n",
              "    </tr>\n",
              "    <tr>\n",
              "      <th>mean</th>\n",
              "      <td>29.881138</td>\n",
              "      <td>0.498854</td>\n",
              "      <td>0.385027</td>\n",
              "      <td>33.295479</td>\n",
              "    </tr>\n",
              "    <tr>\n",
              "      <th>std</th>\n",
              "      <td>14.413493</td>\n",
              "      <td>1.041658</td>\n",
              "      <td>0.865560</td>\n",
              "      <td>51.758668</td>\n",
              "    </tr>\n",
              "    <tr>\n",
              "      <th>min</th>\n",
              "      <td>0.170000</td>\n",
              "      <td>0.000000</td>\n",
              "      <td>0.000000</td>\n",
              "      <td>0.000000</td>\n",
              "    </tr>\n",
              "    <tr>\n",
              "      <th>25%</th>\n",
              "      <td>21.000000</td>\n",
              "      <td>0.000000</td>\n",
              "      <td>0.000000</td>\n",
              "      <td>7.895800</td>\n",
              "    </tr>\n",
              "    <tr>\n",
              "      <th>50%</th>\n",
              "      <td>28.000000</td>\n",
              "      <td>0.000000</td>\n",
              "      <td>0.000000</td>\n",
              "      <td>14.454200</td>\n",
              "    </tr>\n",
              "    <tr>\n",
              "      <th>75%</th>\n",
              "      <td>39.000000</td>\n",
              "      <td>1.000000</td>\n",
              "      <td>0.000000</td>\n",
              "      <td>31.275000</td>\n",
              "    </tr>\n",
              "    <tr>\n",
              "      <th>max</th>\n",
              "      <td>80.000000</td>\n",
              "      <td>8.000000</td>\n",
              "      <td>9.000000</td>\n",
              "      <td>512.329200</td>\n",
              "    </tr>\n",
              "  </tbody>\n",
              "</table>\n",
              "</div>"
            ],
            "text/plain": [
              "               Age        SibSp        Parch         Fare\n",
              "count  1046.000000  1309.000000  1309.000000  1308.000000\n",
              "mean     29.881138     0.498854     0.385027    33.295479\n",
              "std      14.413493     1.041658     0.865560    51.758668\n",
              "min       0.170000     0.000000     0.000000     0.000000\n",
              "25%      21.000000     0.000000     0.000000     7.895800\n",
              "50%      28.000000     0.000000     0.000000    14.454200\n",
              "75%      39.000000     1.000000     0.000000    31.275000\n",
              "max      80.000000     8.000000     9.000000   512.329200"
            ]
          },
          "execution_count": 6,
          "metadata": {},
          "output_type": "execute_result"
        }
      ],
      "source": [
        "numerical = ['Age', 'SibSp', 'Parch', 'Fare']\n",
        "df[numerical].describe()"
      ]
    },
    {
      "cell_type": "markdown",
      "metadata": {
        "id": "Gs6fFRMNbwg7"
      },
      "source": [
        "## 1.1 Features Distribution and Missing Values"
      ]
    },
    {
      "cell_type": "code",
      "execution_count": 7,
      "metadata": {
        "colab": {
          "base_uri": "https://localhost:8080/"
        },
        "id": "DV3GDzNvDFGW",
        "outputId": "f04fb8c5-e892-48fb-abfa-8e8b87749290"
      },
      "outputs": [
        {
          "name": "stdout",
          "output_type": "stream",
          "text": [
            "<class 'pandas.core.frame.DataFrame'>\n",
            "Int64Index: 1309 entries, 1 to 1309\n",
            "Data columns (total 11 columns):\n",
            " #   Column    Non-Null Count  Dtype  \n",
            "---  ------    --------------  -----  \n",
            " 0   Survived  891 non-null    float64\n",
            " 1   Pclass    1309 non-null   int64  \n",
            " 2   Name      1309 non-null   object \n",
            " 3   Sex       1309 non-null   object \n",
            " 4   Age       1046 non-null   float64\n",
            " 5   SibSp     1309 non-null   int64  \n",
            " 6   Parch     1309 non-null   int64  \n",
            " 7   Ticket    1309 non-null   object \n",
            " 8   Fare      1308 non-null   float64\n",
            " 9   Cabin     295 non-null    object \n",
            " 10  Embarked  1307 non-null   object \n",
            "dtypes: float64(3), int64(3), object(5)\n",
            "memory usage: 122.7+ KB\n"
          ]
        }
      ],
      "source": [
        "df.info()"
      ]
    },
    {
      "cell_type": "code",
      "execution_count": 8,
      "metadata": {
        "colab": {
          "base_uri": "https://localhost:8080/"
        },
        "id": "LL8mpcc6bXk6",
        "outputId": "f044b5ac-bac5-4808-e093-534816b2663c"
      },
      "outputs": [
        {
          "data": {
            "text/plain": [
              "891"
            ]
          },
          "execution_count": 8,
          "metadata": {},
          "output_type": "execute_result"
        }
      ],
      "source": [
        "len(df) - len(test)"
      ]
    },
    {
      "cell_type": "markdown",
      "metadata": {
        "id": "icVlmAYVa3NP"
      },
      "source": [
        "We can see that there are missing values in columns `Survived`, `Age`, `Fare`, `Cabin` and `Embarked`. The missing values in `Survived` is because we don't have the labels for the test set. For others missing values, we would like to do some more EDA and find a way to fill/impute or deal with thoses values."
      ]
    },
    {
      "cell_type": "code",
      "execution_count": 9,
      "metadata": {
        "colab": {
          "base_uri": "https://localhost:8080/"
        },
        "id": "FegvX51WZaHh",
        "outputId": "1ca97f45-e7e7-4b7f-d4a7-912bff8b4a69"
      },
      "outputs": [
        {
          "data": {
            "text/html": [
              "<div>\n",
              "<style scoped>\n",
              "    .dataframe tbody tr th:only-of-type {\n",
              "        vertical-align: middle;\n",
              "    }\n",
              "\n",
              "    .dataframe tbody tr th {\n",
              "        vertical-align: top;\n",
              "    }\n",
              "\n",
              "    .dataframe thead th {\n",
              "        text-align: right;\n",
              "    }\n",
              "</style>\n",
              "<table border=\"1\" class=\"dataframe\">\n",
              "  <thead>\n",
              "    <tr style=\"text-align: right;\">\n",
              "      <th></th>\n",
              "      <th>na_counts</th>\n",
              "      <th>na_percentage</th>\n",
              "    </tr>\n",
              "  </thead>\n",
              "  <tbody>\n",
              "    <tr>\n",
              "      <th>Survived</th>\n",
              "      <td>418</td>\n",
              "      <td>31.93</td>\n",
              "    </tr>\n",
              "    <tr>\n",
              "      <th>Pclass</th>\n",
              "      <td>0</td>\n",
              "      <td>0.00</td>\n",
              "    </tr>\n",
              "    <tr>\n",
              "      <th>Name</th>\n",
              "      <td>0</td>\n",
              "      <td>0.00</td>\n",
              "    </tr>\n",
              "    <tr>\n",
              "      <th>Sex</th>\n",
              "      <td>0</td>\n",
              "      <td>0.00</td>\n",
              "    </tr>\n",
              "    <tr>\n",
              "      <th>Age</th>\n",
              "      <td>263</td>\n",
              "      <td>20.09</td>\n",
              "    </tr>\n",
              "    <tr>\n",
              "      <th>SibSp</th>\n",
              "      <td>0</td>\n",
              "      <td>0.00</td>\n",
              "    </tr>\n",
              "    <tr>\n",
              "      <th>Parch</th>\n",
              "      <td>0</td>\n",
              "      <td>0.00</td>\n",
              "    </tr>\n",
              "    <tr>\n",
              "      <th>Ticket</th>\n",
              "      <td>0</td>\n",
              "      <td>0.00</td>\n",
              "    </tr>\n",
              "    <tr>\n",
              "      <th>Fare</th>\n",
              "      <td>1</td>\n",
              "      <td>0.08</td>\n",
              "    </tr>\n",
              "    <tr>\n",
              "      <th>Cabin</th>\n",
              "      <td>1014</td>\n",
              "      <td>77.46</td>\n",
              "    </tr>\n",
              "    <tr>\n",
              "      <th>Embarked</th>\n",
              "      <td>2</td>\n",
              "      <td>0.15</td>\n",
              "    </tr>\n",
              "  </tbody>\n",
              "</table>\n",
              "</div>"
            ],
            "text/plain": [
              "          na_counts  na_percentage\n",
              "Survived        418          31.93\n",
              "Pclass            0           0.00\n",
              "Name              0           0.00\n",
              "Sex               0           0.00\n",
              "Age             263          20.09\n",
              "SibSp             0           0.00\n",
              "Parch             0           0.00\n",
              "Ticket            0           0.00\n",
              "Fare              1           0.08\n",
              "Cabin          1014          77.46\n",
              "Embarked          2           0.15"
            ]
          },
          "execution_count": 9,
          "metadata": {},
          "output_type": "execute_result"
        }
      ],
      "source": [
        "# find missing values' counts and percentages\n",
        "df.isna().sum().to_frame('na_counts').merge((df.isna().sum() / len(df) * 100).round(2).to_frame('na_percentage'), left_index=True, right_index=True)"
      ]
    },
    {
      "cell_type": "markdown",
      "metadata": {
        "id": "NECxZaLgBtCs"
      },
      "source": [
        "For the sake of exploration, we'd like to transform `Sex` column into 1's and 0's."
      ]
    },
    {
      "cell_type": "code",
      "execution_count": 10,
      "metadata": {
        "id": "amX1-nTUmWWG"
      },
      "outputs": [],
      "source": [
        "df['Sex_mapped'] = df['Sex'].map({'female':0, 'male':1})"
      ]
    },
    {
      "cell_type": "code",
      "execution_count": 11,
      "metadata": {
        "colab": {
          "base_uri": "https://localhost:8080/",
          "height": 375
        },
        "id": "fwM2uuBSmRyU",
        "outputId": "2d396113-1ba9-4039-dafb-6ce954ba447e"
      },
      "outputs": [
        {
          "data": {
            "image/png": "[encoded data removed]",
            "text/plain": [
              "<Figure size 576x432 with 2 Axes>"
            ]
          },
          "metadata": {
            "needs_background": "light"
          },
          "output_type": "display_data"
        }
      ],
      "source": [
        "corr = df.corr()\n",
        "mask = np.zeros_like(corr)\n",
        "mask[np.triu_indices_from(mask)] = True\n",
        "\n",
        "plt.subplots(figsize=(8, 6))\n",
        "sns.heatmap(corr, mask=mask, annot=True);"
      ]
    },
    {
      "cell_type": "code",
      "execution_count": 12,
      "metadata": {
        "colab": {
          "base_uri": "https://localhost:8080/",
          "height": 505
        },
        "id": "5l6eUqnTaSgZ",
        "outputId": "f639ea0f-31c5-4a1c-9d50-be1888f12c09"
      },
      "outputs": [
        {
          "data": {
            "image/png": "[encoded data removed]",
            "text/plain": [
              "<Figure size 1008x576 with 6 Axes>"
            ]
          },
          "metadata": {},
          "output_type": "display_data"
        }
      ],
      "source": [
        "columns = ['Pclass', 'Sex', 'Embarked', 'SibSp', 'Parch', 'Survived']\n",
        "\n",
        "palette = sns.color_palette('Set2')[2:7:4]\n",
        "sns.set_theme(style='ticks', font_scale=1.1, palette=palette)\n",
        "\n",
        "fig = plt.figure(figsize=(14, 8))\n",
        "plt.subplots_adjust(wspace=0.3, hspace=0.3)\n",
        "\n",
        "for i in range(6):\n",
        "  plt.subplot(2, 3, i+1)\n",
        "  ax = sns.countplot(data=df, x=columns[i], hue='Survived')\n",
        "  ax.get_legend().remove()\n",
        "\n",
        "handles, labels = ax.get_legend_handles_labels()\n",
        "fig.legend(handles, labels, loc='center right', title='Survived')\n",
        "sns.despine();"
      ]
    },
    {
      "cell_type": "markdown",
      "metadata": {
        "id": "m-PuC_GGJx51"
      },
      "source": [
        "### `Age`: (263 missing == 20.09%)"
      ]
    },
    {
      "cell_type": "code",
      "execution_count": 13,
      "metadata": {
        "colab": {
          "base_uri": "https://localhost:8080/",
          "height": 342
        },
        "id": "hQXy5fNQgTpt",
        "outputId": "0a65f48a-8e7e-4042-8a10-f2ff838502a0"
      },
      "outputs": [
        {
          "data": {
            "image/png": "[encoded data removed]",
            "text/plain": [
              "<Figure size 1512x360 with 2 Axes>"
            ]
          },
          "metadata": {},
          "output_type": "display_data"
        }
      ],
      "source": [
        "plt.figure(figsize=(21,5))\n",
        "plt.subplots_adjust(wspace=0.4)\n",
        "\n",
        "plt.subplot(1,2,1)\n",
        "sns.histplot(data=df, x='Age', hue='Survived', multiple='stack', palette=palette)\n",
        "plt.subplot(1,2,2)\n",
        "sns.histplot(data=df, x='Age', palette=palette)\n",
        "sns.despine()"
      ]
    },
    {
      "cell_type": "code",
      "execution_count": 14,
      "metadata": {
        "colab": {
          "base_uri": "https://localhost:8080/",
          "height": 342
        },
        "id": "CuG0nMZESsPN",
        "outputId": "c2ac9366-87c0-4db6-a5e6-a431b893caff"
      },
      "outputs": [
        {
          "data": {
            "image/png": "[encoded data removed]",
            "text/plain": [
              "<Figure size 1512x360 with 2 Axes>"
            ]
          },
          "metadata": {},
          "output_type": "display_data"
        }
      ],
      "source": [
        "plt.figure(figsize=(21,5))\n",
        "plt.subplots_adjust(wspace=0.4)\n",
        "\n",
        "plt.subplot(1,2,1)\n",
        "sns.histplot(data=df[df.Sex == 'male'], x='Age', hue='Survived', multiple='stack', palette=palette)\n",
        "plt.subplot(1,2,2)\n",
        "sns.histplot(data=df[df.Sex == 'male'], x='Age', palette=palette)\n",
        "sns.despine()"
      ]
    },
    {
      "cell_type": "code",
      "execution_count": 15,
      "metadata": {
        "colab": {
          "base_uri": "https://localhost:8080/"
        },
        "id": "hK420l_wmoBf",
        "outputId": "6e92c5a8-8f2e-410e-bea9-2ca2a88d61ae"
      },
      "outputs": [
        {
          "data": {
            "text/plain": [
              "Age           1.000000\n",
              "Pclass       -0.408106\n",
              "SibSp        -0.243699\n",
              "Fare          0.178740\n",
              "Parch        -0.150917\n",
              "Survived     -0.077221\n",
              "Sex_mapped    0.063645\n",
              "Name: Age, dtype: float64"
            ]
          },
          "execution_count": 15,
          "metadata": {},
          "output_type": "execute_result"
        }
      ],
      "source": [
        "df.corr()['Age'].reindex(df.corr()['Age'].abs().sort_values(ascending=False).index)"
      ]
    },
    {
      "cell_type": "code",
      "execution_count": 16,
      "metadata": {
        "colab": {
          "base_uri": "https://localhost:8080/",
          "height": 175
        },
        "id": "v56AlbG6oFek",
        "outputId": "8b283e45-d713-43bb-e005-ac679edbdad6"
      },
      "outputs": [
        {
          "data": {
            "text/html": [
              "<div>\n",
              "<style scoped>\n",
              "    .dataframe tbody tr th:only-of-type {\n",
              "        vertical-align: middle;\n",
              "    }\n",
              "\n",
              "    .dataframe tbody tr th {\n",
              "        vertical-align: top;\n",
              "    }\n",
              "\n",
              "    .dataframe thead th {\n",
              "        text-align: right;\n",
              "    }\n",
              "</style>\n",
              "<table border=\"1\" class=\"dataframe\">\n",
              "  <thead>\n",
              "    <tr style=\"text-align: right;\">\n",
              "      <th></th>\n",
              "      <th>count</th>\n",
              "      <th>mean</th>\n",
              "      <th>std</th>\n",
              "      <th>min</th>\n",
              "      <th>25%</th>\n",
              "      <th>50%</th>\n",
              "      <th>75%</th>\n",
              "      <th>max</th>\n",
              "    </tr>\n",
              "    <tr>\n",
              "      <th>Pclass</th>\n",
              "      <th></th>\n",
              "      <th></th>\n",
              "      <th></th>\n",
              "      <th></th>\n",
              "      <th></th>\n",
              "      <th></th>\n",
              "      <th></th>\n",
              "      <th></th>\n",
              "    </tr>\n",
              "  </thead>\n",
              "  <tbody>\n",
              "    <tr>\n",
              "      <th>1</th>\n",
              "      <td>284.0</td>\n",
              "      <td>39.159930</td>\n",
              "      <td>14.548028</td>\n",
              "      <td>0.92</td>\n",
              "      <td>28.0</td>\n",
              "      <td>39.0</td>\n",
              "      <td>50.0</td>\n",
              "      <td>80.0</td>\n",
              "    </tr>\n",
              "    <tr>\n",
              "      <th>2</th>\n",
              "      <td>261.0</td>\n",
              "      <td>29.506705</td>\n",
              "      <td>13.638627</td>\n",
              "      <td>0.67</td>\n",
              "      <td>22.0</td>\n",
              "      <td>29.0</td>\n",
              "      <td>36.0</td>\n",
              "      <td>70.0</td>\n",
              "    </tr>\n",
              "    <tr>\n",
              "      <th>3</th>\n",
              "      <td>501.0</td>\n",
              "      <td>24.816367</td>\n",
              "      <td>11.958202</td>\n",
              "      <td>0.17</td>\n",
              "      <td>18.0</td>\n",
              "      <td>24.0</td>\n",
              "      <td>32.0</td>\n",
              "      <td>74.0</td>\n",
              "    </tr>\n",
              "  </tbody>\n",
              "</table>\n",
              "</div>"
            ],
            "text/plain": [
              "        count       mean        std   min   25%   50%   75%   max\n",
              "Pclass                                                           \n",
              "1       284.0  39.159930  14.548028  0.92  28.0  39.0  50.0  80.0\n",
              "2       261.0  29.506705  13.638627  0.67  22.0  29.0  36.0  70.0\n",
              "3       501.0  24.816367  11.958202  0.17  18.0  24.0  32.0  74.0"
            ]
          },
          "execution_count": 16,
          "metadata": {},
          "output_type": "execute_result"
        }
      ],
      "source": [
        "df.groupby('Pclass').Age.describe()"
      ]
    },
    {
      "cell_type": "markdown",
      "metadata": {
        "id": "sTyRZsxkoJuv"
      },
      "source": [
        "As seen from the heatmap before, we may want to use median/mean of age in each `Pclass` to fill in missing values for `Age` since **`Pclass` has the highest correlation with `Age`**."
      ]
    },
    {
      "cell_type": "markdown",
      "metadata": {
        "id": "1yb-4_8_J9d0"
      },
      "source": [
        "### Fare: (1 missing == 0.08%)"
      ]
    },
    {
      "cell_type": "code",
      "execution_count": 17,
      "metadata": {
        "colab": {
          "base_uri": "https://localhost:8080/",
          "height": 342
        },
        "id": "RnZb5l7xLxSd",
        "outputId": "b4c51630-908d-47cd-b65a-4bf00161bca1"
      },
      "outputs": [
        {
          "data": {
            "image/png": "[encoded data removed]",
            "text/plain": [
              "<Figure size 1512x360 with 2 Axes>"
            ]
          },
          "metadata": {},
          "output_type": "display_data"
        }
      ],
      "source": [
        "plt.figure(figsize=(21,5))\n",
        "plt.subplots_adjust(wspace=0.4)\n",
        "\n",
        "plt.subplot(1,2,1)\n",
        "sns.histplot(data=df, x='Fare', hue='Survived', bins=50, multiple='stack', palette=palette)\n",
        "plt.subplot(1,2,2)\n",
        "sns.histplot(data=df, x='Fare', bins=50, palette=palette)\n",
        "sns.despine()"
      ]
    },
    {
      "cell_type": "code",
      "execution_count": 18,
      "metadata": {
        "colab": {
          "base_uri": "https://localhost:8080/"
        },
        "id": "1D2dkZKioyn-",
        "outputId": "8a9de676-0cde-44ea-8c69-324ad3f73c8b"
      },
      "outputs": [
        {
          "data": {
            "text/plain": [
              "Fare          1.000000\n",
              "Pclass       -0.558629\n",
              "Survived      0.257307\n",
              "Parch         0.221539\n",
              "Sex_mapped   -0.185523\n",
              "Age           0.178740\n",
              "SibSp         0.160238\n",
              "Name: Fare, dtype: float64"
            ]
          },
          "execution_count": 18,
          "metadata": {},
          "output_type": "execute_result"
        }
      ],
      "source": [
        "df.corr()['Fare'].reindex(df.corr()['Fare'].abs().sort_values(ascending=False).index)"
      ]
    },
    {
      "cell_type": "code",
      "execution_count": 19,
      "metadata": {
        "colab": {
          "base_uri": "https://localhost:8080/",
          "height": 175
        },
        "id": "kk5kO_dXLGeW",
        "outputId": "5dc2ec34-5436-4362-e2a6-a967ebfd3a17"
      },
      "outputs": [
        {
          "data": {
            "text/html": [
              "<div>\n",
              "<style scoped>\n",
              "    .dataframe tbody tr th:only-of-type {\n",
              "        vertical-align: middle;\n",
              "    }\n",
              "\n",
              "    .dataframe tbody tr th {\n",
              "        vertical-align: top;\n",
              "    }\n",
              "\n",
              "    .dataframe thead th {\n",
              "        text-align: right;\n",
              "    }\n",
              "</style>\n",
              "<table border=\"1\" class=\"dataframe\">\n",
              "  <thead>\n",
              "    <tr style=\"text-align: right;\">\n",
              "      <th></th>\n",
              "      <th>count</th>\n",
              "      <th>mean</th>\n",
              "      <th>std</th>\n",
              "      <th>min</th>\n",
              "      <th>25%</th>\n",
              "      <th>50%</th>\n",
              "      <th>75%</th>\n",
              "      <th>max</th>\n",
              "    </tr>\n",
              "    <tr>\n",
              "      <th>Pclass</th>\n",
              "      <th></th>\n",
              "      <th></th>\n",
              "      <th></th>\n",
              "      <th></th>\n",
              "      <th></th>\n",
              "      <th></th>\n",
              "      <th></th>\n",
              "      <th></th>\n",
              "    </tr>\n",
              "  </thead>\n",
              "  <tbody>\n",
              "    <tr>\n",
              "      <th>1</th>\n",
              "      <td>323.0</td>\n",
              "      <td>87.508992</td>\n",
              "      <td>80.447178</td>\n",
              "      <td>0.0</td>\n",
              "      <td>30.6958</td>\n",
              "      <td>60.0000</td>\n",
              "      <td>107.6625</td>\n",
              "      <td>512.3292</td>\n",
              "    </tr>\n",
              "    <tr>\n",
              "      <th>2</th>\n",
              "      <td>277.0</td>\n",
              "      <td>21.179196</td>\n",
              "      <td>13.607122</td>\n",
              "      <td>0.0</td>\n",
              "      <td>13.0000</td>\n",
              "      <td>15.0458</td>\n",
              "      <td>26.0000</td>\n",
              "      <td>73.5000</td>\n",
              "    </tr>\n",
              "    <tr>\n",
              "      <th>3</th>\n",
              "      <td>708.0</td>\n",
              "      <td>13.302889</td>\n",
              "      <td>11.494358</td>\n",
              "      <td>0.0</td>\n",
              "      <td>7.7500</td>\n",
              "      <td>8.0500</td>\n",
              "      <td>15.2458</td>\n",
              "      <td>69.5500</td>\n",
              "    </tr>\n",
              "  </tbody>\n",
              "</table>\n",
              "</div>"
            ],
            "text/plain": [
              "        count       mean        std  min      25%      50%       75%       max\n",
              "Pclass                                                                        \n",
              "1       323.0  87.508992  80.447178  0.0  30.6958  60.0000  107.6625  512.3292\n",
              "2       277.0  21.179196  13.607122  0.0  13.0000  15.0458   26.0000   73.5000\n",
              "3       708.0  13.302889  11.494358  0.0   7.7500   8.0500   15.2458   69.5500"
            ]
          },
          "execution_count": 19,
          "metadata": {},
          "output_type": "execute_result"
        }
      ],
      "source": [
        "df.groupby('Pclass').Fare.describe()"
      ]
    },
    {
      "cell_type": "markdown",
      "metadata": {
        "id": "yPSoLePCK2uP"
      },
      "source": [
        "Similar to `Age`, we may want to use median/mean of fare in each `Pclass` to fill in missing values for `Fare` since **`Pclass` has the highest correlation with `Fare`**."
      ]
    },
    {
      "cell_type": "markdown",
      "metadata": {
        "id": "2bpFfnofKLNo"
      },
      "source": [
        "### `Cabin`: (1014 missing == 77.46%)"
      ]
    },
    {
      "cell_type": "code",
      "execution_count": 20,
      "metadata": {
        "colab": {
          "base_uri": "https://localhost:8080/"
        },
        "id": "Q2hZablfo10U",
        "outputId": "ac60d0d1-cfda-4404-bed8-80ffa289fe12"
      },
      "outputs": [
        {
          "data": {
            "text/plain": [
              "count             295\n",
              "unique            186\n",
              "top       C23 C25 C27\n",
              "freq                6\n",
              "Name: Cabin, dtype: object"
            ]
          },
          "execution_count": 20,
          "metadata": {},
          "output_type": "execute_result"
        }
      ],
      "source": [
        "df.Cabin.describe()"
      ]
    },
    {
      "cell_type": "markdown",
      "metadata": {
        "id": "k8XNqOpaKRWp"
      },
      "source": [
        "Since over 75% of this feature is missing, we decide to drop it."
      ]
    },
    {
      "cell_type": "markdown",
      "metadata": {
        "id": "yC5SiADvP6ah"
      },
      "source": [
        "### `Embarked`: (2 missing == 0.15%)"
      ]
    },
    {
      "cell_type": "code",
      "execution_count": 21,
      "metadata": {
        "colab": {
          "base_uri": "https://localhost:8080/",
          "height": 505
        },
        "id": "SpGoJhC2QEH8",
        "outputId": "c1020c93-6489-4a07-8491-d3d4f6ffa9aa"
      },
      "outputs": [
        {
          "data": {
            "image/png": "[encoded data removed]",
            "text/plain": [
              "<Figure size 864x576 with 4 Axes>"
            ]
          },
          "metadata": {},
          "output_type": "display_data"
        }
      ],
      "source": [
        "plt.figure(figsize=(12,8))\n",
        "plt.subplots_adjust(wspace=0.4, hspace=0.4)\n",
        "\n",
        "plt.subplot(2,2,1)\n",
        "sns.countplot(data=df, x='Embarked', hue='Survived', palette=palette)\n",
        "plt.subplot(2,2,2)\n",
        "sns.boxplot(data=df, x='Embarked', y='Fare', palette=sns.color_palette('pastel'))\n",
        "plt.subplot(2,2,3)\n",
        "sns.boxplot(data=df, x='Embarked', y='Age', palette=sns.color_palette('pastel'))\n",
        "plt.subplot(2,2,4)\n",
        "sns.countplot(data=df, x='Embarked', hue='Sex', palette=palette)\n",
        "sns.despine()"
      ]
    },
    {
      "cell_type": "markdown",
      "metadata": {
        "id": "YDvcDX6LUznE"
      },
      "source": [
        "`Embarked` doesn't seem to have high correlation with other features, so we may want to drop the two samples or fill in the missing values with the mode, which is 'S'."
      ]
    },
    {
      "cell_type": "code",
      "execution_count": 22,
      "metadata": {
        "colab": {
          "base_uri": "https://localhost:8080/",
          "height": 143
        },
        "id": "7qd43-tbSupU",
        "outputId": "d3603fd5-5629-4d1b-9b27-51d36a463c10"
      },
      "outputs": [
        {
          "data": {
            "text/html": [
              "<div>\n",
              "<style scoped>\n",
              "    .dataframe tbody tr th:only-of-type {\n",
              "        vertical-align: middle;\n",
              "    }\n",
              "\n",
              "    .dataframe tbody tr th {\n",
              "        vertical-align: top;\n",
              "    }\n",
              "\n",
              "    .dataframe thead th {\n",
              "        text-align: right;\n",
              "    }\n",
              "</style>\n",
              "<table border=\"1\" class=\"dataframe\">\n",
              "  <thead>\n",
              "    <tr style=\"text-align: right;\">\n",
              "      <th></th>\n",
              "      <th>Survived</th>\n",
              "      <th>Pclass</th>\n",
              "      <th>Name</th>\n",
              "      <th>Sex</th>\n",
              "      <th>Age</th>\n",
              "      <th>SibSp</th>\n",
              "      <th>Parch</th>\n",
              "      <th>Ticket</th>\n",
              "      <th>Fare</th>\n",
              "      <th>Cabin</th>\n",
              "      <th>Embarked</th>\n",
              "      <th>Sex_mapped</th>\n",
              "    </tr>\n",
              "    <tr>\n",
              "      <th>PassengerId</th>\n",
              "      <th></th>\n",
              "      <th></th>\n",
              "      <th></th>\n",
              "      <th></th>\n",
              "      <th></th>\n",
              "      <th></th>\n",
              "      <th></th>\n",
              "      <th></th>\n",
              "      <th></th>\n",
              "      <th></th>\n",
              "      <th></th>\n",
              "      <th></th>\n",
              "    </tr>\n",
              "  </thead>\n",
              "  <tbody>\n",
              "    <tr>\n",
              "      <th>62</th>\n",
              "      <td>1.0</td>\n",
              "      <td>1</td>\n",
              "      <td>Icard, Miss. Amelie</td>\n",
              "      <td>female</td>\n",
              "      <td>38.0</td>\n",
              "      <td>0</td>\n",
              "      <td>0</td>\n",
              "      <td>113572</td>\n",
              "      <td>80.0</td>\n",
              "      <td>B28</td>\n",
              "      <td>NaN</td>\n",
              "      <td>0</td>\n",
              "    </tr>\n",
              "    <tr>\n",
              "      <th>830</th>\n",
              "      <td>1.0</td>\n",
              "      <td>1</td>\n",
              "      <td>Stone, Mrs. George Nelson (Martha Evelyn)</td>\n",
              "      <td>female</td>\n",
              "      <td>62.0</td>\n",
              "      <td>0</td>\n",
              "      <td>0</td>\n",
              "      <td>113572</td>\n",
              "      <td>80.0</td>\n",
              "      <td>B28</td>\n",
              "      <td>NaN</td>\n",
              "      <td>0</td>\n",
              "    </tr>\n",
              "  </tbody>\n",
              "</table>\n",
              "</div>"
            ],
            "text/plain": [
              "             Survived  Pclass                                       Name  \\\n",
              "PassengerId                                                                \n",
              "62                1.0       1                        Icard, Miss. Amelie   \n",
              "830               1.0       1  Stone, Mrs. George Nelson (Martha Evelyn)   \n",
              "\n",
              "                Sex   Age  SibSp  Parch  Ticket  Fare Cabin Embarked  \\\n",
              "PassengerId                                                            \n",
              "62           female  38.0      0      0  113572  80.0   B28      NaN   \n",
              "830          female  62.0      0      0  113572  80.0   B28      NaN   \n",
              "\n",
              "             Sex_mapped  \n",
              "PassengerId              \n",
              "62                    0  \n",
              "830                   0  "
            ]
          },
          "execution_count": 22,
          "metadata": {},
          "output_type": "execute_result"
        }
      ],
      "source": [
        "df[df.Embarked.isna()]"
      ]
    },
    {
      "cell_type": "markdown",
      "metadata": {
        "id": "zRFdfQJnTE0t"
      },
      "source": [
        "The two samples where `Embarked` is NA are both positive samples. Considering that we are dealing with an unbalanced dataset, we do not want to drop these two positive samples, and therefore we will fill in the missing values with the mode."
      ]
    },
    {
      "cell_type": "markdown",
      "metadata": {
        "id": "nB9Z0cd9TAcH"
      },
      "source": [
        "### `Name` and `Ticket` (categorical variables with high cardinality): "
      ]
    },
    {
      "cell_type": "code",
      "execution_count": 23,
      "metadata": {
        "colab": {
          "base_uri": "https://localhost:8080/"
        },
        "id": "3afVwrGHxxpV",
        "outputId": "efd3e880-41c3-4319-df8d-835972c6226c"
      },
      "outputs": [
        {
          "name": "stdout",
          "output_type": "stream",
          "text": [
            "number of unique Name is 1307\n",
            "number of unique Ticket is 929\n"
          ]
        }
      ],
      "source": [
        "print('number of unique Name is', df.Name.nunique())\n",
        "print('number of unique Ticket is', df.Ticket.nunique())"
      ]
    },
    {
      "cell_type": "code",
      "execution_count": 24,
      "metadata": {
        "colab": {
          "base_uri": "https://localhost:8080/"
        },
        "id": "Fh_w6_lUznBa",
        "outputId": "5be2c0e9-0860-496a-c10e-82cae24cecd4"
      },
      "outputs": [
        {
          "name": "stdout",
          "output_type": "stream",
          "text": [
            "number of unique last name is 875\n"
          ]
        }
      ],
      "source": [
        "print('number of unique last name is', df.Name.str.split(',').str.get(0).nunique())"
      ]
    },
    {
      "cell_type": "code",
      "execution_count": 25,
      "metadata": {
        "colab": {
          "base_uri": "https://localhost:8080/"
        },
        "id": "8L_nF-cREDVg",
        "outputId": "682b8975-f231-4023-8367-40160c244a73"
      },
      "outputs": [
        {
          "data": {
            "text/plain": [
              "CA. 2343        11\n",
              "1601             8\n",
              "CA 2144          8\n",
              "347082           7\n",
              "S.O.C. 14879     7\n",
              "                ..\n",
              "335097           1\n",
              "370373           1\n",
              "PC 17318         1\n",
              "237798           1\n",
              "250648           1\n",
              "Name: Ticket, Length: 929, dtype: int64"
            ]
          },
          "execution_count": 25,
          "metadata": {},
          "output_type": "execute_result"
        }
      ],
      "source": [
        "df.Ticket.value_counts()"
      ]
    },
    {
      "cell_type": "code",
      "execution_count": 26,
      "metadata": {
        "colab": {
          "base_uri": "https://localhost:8080/"
        },
        "id": "00PzUoWNEDVg",
        "outputId": "7e4f5104-a9a8-43ae-b853-2227721dccdb"
      },
      "outputs": [
        {
          "data": {
            "text/plain": [
              "1     713\n",
              "2     132\n",
              "3      49\n",
              "4      16\n",
              "5       7\n",
              "7       5\n",
              "6       4\n",
              "8       2\n",
              "11      1\n",
              "dtype: int64"
            ]
          },
          "execution_count": 26,
          "metadata": {},
          "output_type": "execute_result"
        }
      ],
      "source": [
        "df.groupby('Ticket').size().value_counts()"
      ]
    },
    {
      "cell_type": "code",
      "execution_count": 27,
      "metadata": {
        "colab": {
          "base_uri": "https://localhost:8080/",
          "height": 925
        },
        "id": "4P01Tg2JSMX4",
        "outputId": "8b326815-6164-48f5-c24f-ba6af2e8ac10"
      },
      "outputs": [
        {
          "data": {
            "text/html": [
              "<div>\n",
              "<style scoped>\n",
              "    .dataframe tbody tr th:only-of-type {\n",
              "        vertical-align: middle;\n",
              "    }\n",
              "\n",
              "    .dataframe tbody tr th {\n",
              "        vertical-align: top;\n",
              "    }\n",
              "\n",
              "    .dataframe thead th {\n",
              "        text-align: right;\n",
              "    }\n",
              "</style>\n",
              "<table border=\"1\" class=\"dataframe\">\n",
              "  <thead>\n",
              "    <tr style=\"text-align: right;\">\n",
              "      <th></th>\n",
              "      <th>Survived</th>\n",
              "      <th>Pclass</th>\n",
              "      <th>Name</th>\n",
              "      <th>Sex</th>\n",
              "      <th>Age</th>\n",
              "      <th>SibSp</th>\n",
              "      <th>Parch</th>\n",
              "      <th>Ticket</th>\n",
              "      <th>Fare</th>\n",
              "      <th>Cabin</th>\n",
              "      <th>Embarked</th>\n",
              "      <th>Sex_mapped</th>\n",
              "    </tr>\n",
              "    <tr>\n",
              "      <th>PassengerId</th>\n",
              "      <th></th>\n",
              "      <th></th>\n",
              "      <th></th>\n",
              "      <th></th>\n",
              "      <th></th>\n",
              "      <th></th>\n",
              "      <th></th>\n",
              "      <th></th>\n",
              "      <th></th>\n",
              "      <th></th>\n",
              "      <th></th>\n",
              "      <th></th>\n",
              "    </tr>\n",
              "  </thead>\n",
              "  <tbody>\n",
              "    <tr>\n",
              "      <th>75</th>\n",
              "      <td>1.0</td>\n",
              "      <td>3</td>\n",
              "      <td>Bing, Mr. Lee</td>\n",
              "      <td>male</td>\n",
              "      <td>32.0</td>\n",
              "      <td>0</td>\n",
              "      <td>0</td>\n",
              "      <td>1601</td>\n",
              "      <td>56.4958</td>\n",
              "      <td>NaN</td>\n",
              "      <td>S</td>\n",
              "      <td>1</td>\n",
              "    </tr>\n",
              "    <tr>\n",
              "      <th>170</th>\n",
              "      <td>0.0</td>\n",
              "      <td>3</td>\n",
              "      <td>Ling, Mr. Lee</td>\n",
              "      <td>male</td>\n",
              "      <td>28.0</td>\n",
              "      <td>0</td>\n",
              "      <td>0</td>\n",
              "      <td>1601</td>\n",
              "      <td>56.4958</td>\n",
              "      <td>NaN</td>\n",
              "      <td>S</td>\n",
              "      <td>1</td>\n",
              "    </tr>\n",
              "    <tr>\n",
              "      <th>931</th>\n",
              "      <td>NaN</td>\n",
              "      <td>3</td>\n",
              "      <td>Hee, Mr. Ling</td>\n",
              "      <td>male</td>\n",
              "      <td>NaN</td>\n",
              "      <td>0</td>\n",
              "      <td>0</td>\n",
              "      <td>1601</td>\n",
              "      <td>56.4958</td>\n",
              "      <td>NaN</td>\n",
              "      <td>S</td>\n",
              "      <td>1</td>\n",
              "    </tr>\n",
              "    <tr>\n",
              "      <th>839</th>\n",
              "      <td>1.0</td>\n",
              "      <td>3</td>\n",
              "      <td>Chip, Mr. Chang</td>\n",
              "      <td>male</td>\n",
              "      <td>32.0</td>\n",
              "      <td>0</td>\n",
              "      <td>0</td>\n",
              "      <td>1601</td>\n",
              "      <td>56.4958</td>\n",
              "      <td>NaN</td>\n",
              "      <td>S</td>\n",
              "      <td>1</td>\n",
              "    </tr>\n",
              "    <tr>\n",
              "      <th>827</th>\n",
              "      <td>0.0</td>\n",
              "      <td>3</td>\n",
              "      <td>Lam, Mr. Len</td>\n",
              "      <td>male</td>\n",
              "      <td>NaN</td>\n",
              "      <td>0</td>\n",
              "      <td>0</td>\n",
              "      <td>1601</td>\n",
              "      <td>56.4958</td>\n",
              "      <td>NaN</td>\n",
              "      <td>S</td>\n",
              "      <td>1</td>\n",
              "    </tr>\n",
              "    <tr>\n",
              "      <th>693</th>\n",
              "      <td>1.0</td>\n",
              "      <td>3</td>\n",
              "      <td>Lam, Mr. Ali</td>\n",
              "      <td>male</td>\n",
              "      <td>NaN</td>\n",
              "      <td>0</td>\n",
              "      <td>0</td>\n",
              "      <td>1601</td>\n",
              "      <td>56.4958</td>\n",
              "      <td>NaN</td>\n",
              "      <td>S</td>\n",
              "      <td>1</td>\n",
              "    </tr>\n",
              "    <tr>\n",
              "      <th>510</th>\n",
              "      <td>1.0</td>\n",
              "      <td>3</td>\n",
              "      <td>Lang, Mr. Fang</td>\n",
              "      <td>male</td>\n",
              "      <td>26.0</td>\n",
              "      <td>0</td>\n",
              "      <td>0</td>\n",
              "      <td>1601</td>\n",
              "      <td>56.4958</td>\n",
              "      <td>NaN</td>\n",
              "      <td>S</td>\n",
              "      <td>1</td>\n",
              "    </tr>\n",
              "    <tr>\n",
              "      <th>644</th>\n",
              "      <td>1.0</td>\n",
              "      <td>3</td>\n",
              "      <td>Foo, Mr. Choong</td>\n",
              "      <td>male</td>\n",
              "      <td>NaN</td>\n",
              "      <td>0</td>\n",
              "      <td>0</td>\n",
              "      <td>1601</td>\n",
              "      <td>56.4958</td>\n",
              "      <td>NaN</td>\n",
              "      <td>S</td>\n",
              "      <td>1</td>\n",
              "    </tr>\n",
              "    <tr>\n",
              "      <th>60</th>\n",
              "      <td>0.0</td>\n",
              "      <td>3</td>\n",
              "      <td>Goodwin, Master. William Frederick</td>\n",
              "      <td>male</td>\n",
              "      <td>11.0</td>\n",
              "      <td>5</td>\n",
              "      <td>2</td>\n",
              "      <td>CA 2144</td>\n",
              "      <td>46.9000</td>\n",
              "      <td>NaN</td>\n",
              "      <td>S</td>\n",
              "      <td>1</td>\n",
              "    </tr>\n",
              "    <tr>\n",
              "      <th>1032</th>\n",
              "      <td>NaN</td>\n",
              "      <td>3</td>\n",
              "      <td>Goodwin, Miss. Jessie Allis</td>\n",
              "      <td>female</td>\n",
              "      <td>10.0</td>\n",
              "      <td>5</td>\n",
              "      <td>2</td>\n",
              "      <td>CA 2144</td>\n",
              "      <td>46.9000</td>\n",
              "      <td>NaN</td>\n",
              "      <td>S</td>\n",
              "      <td>0</td>\n",
              "    </tr>\n",
              "    <tr>\n",
              "      <th>1031</th>\n",
              "      <td>NaN</td>\n",
              "      <td>3</td>\n",
              "      <td>Goodwin, Mr. Charles Frederick</td>\n",
              "      <td>male</td>\n",
              "      <td>40.0</td>\n",
              "      <td>1</td>\n",
              "      <td>6</td>\n",
              "      <td>CA 2144</td>\n",
              "      <td>46.9000</td>\n",
              "      <td>NaN</td>\n",
              "      <td>S</td>\n",
              "      <td>1</td>\n",
              "    </tr>\n",
              "    <tr>\n",
              "      <th>679</th>\n",
              "      <td>0.0</td>\n",
              "      <td>3</td>\n",
              "      <td>Goodwin, Mrs. Frederick (Augusta Tyler)</td>\n",
              "      <td>female</td>\n",
              "      <td>43.0</td>\n",
              "      <td>1</td>\n",
              "      <td>6</td>\n",
              "      <td>CA 2144</td>\n",
              "      <td>46.9000</td>\n",
              "      <td>NaN</td>\n",
              "      <td>S</td>\n",
              "      <td>0</td>\n",
              "    </tr>\n",
              "    <tr>\n",
              "      <th>684</th>\n",
              "      <td>0.0</td>\n",
              "      <td>3</td>\n",
              "      <td>Goodwin, Mr. Charles Edward</td>\n",
              "      <td>male</td>\n",
              "      <td>14.0</td>\n",
              "      <td>5</td>\n",
              "      <td>2</td>\n",
              "      <td>CA 2144</td>\n",
              "      <td>46.9000</td>\n",
              "      <td>NaN</td>\n",
              "      <td>S</td>\n",
              "      <td>1</td>\n",
              "    </tr>\n",
              "    <tr>\n",
              "      <th>387</th>\n",
              "      <td>0.0</td>\n",
              "      <td>3</td>\n",
              "      <td>Goodwin, Master. Sidney Leonard</td>\n",
              "      <td>male</td>\n",
              "      <td>1.0</td>\n",
              "      <td>5</td>\n",
              "      <td>2</td>\n",
              "      <td>CA 2144</td>\n",
              "      <td>46.9000</td>\n",
              "      <td>NaN</td>\n",
              "      <td>S</td>\n",
              "      <td>1</td>\n",
              "    </tr>\n",
              "    <tr>\n",
              "      <th>72</th>\n",
              "      <td>0.0</td>\n",
              "      <td>3</td>\n",
              "      <td>Goodwin, Miss. Lillian Amy</td>\n",
              "      <td>female</td>\n",
              "      <td>16.0</td>\n",
              "      <td>5</td>\n",
              "      <td>2</td>\n",
              "      <td>CA 2144</td>\n",
              "      <td>46.9000</td>\n",
              "      <td>NaN</td>\n",
              "      <td>S</td>\n",
              "      <td>0</td>\n",
              "    </tr>\n",
              "    <tr>\n",
              "      <th>481</th>\n",
              "      <td>0.0</td>\n",
              "      <td>3</td>\n",
              "      <td>Goodwin, Master. Harold Victor</td>\n",
              "      <td>male</td>\n",
              "      <td>9.0</td>\n",
              "      <td>5</td>\n",
              "      <td>2</td>\n",
              "      <td>CA 2144</td>\n",
              "      <td>46.9000</td>\n",
              "      <td>NaN</td>\n",
              "      <td>S</td>\n",
              "      <td>1</td>\n",
              "    </tr>\n",
              "    <tr>\n",
              "      <th>1252</th>\n",
              "      <td>NaN</td>\n",
              "      <td>3</td>\n",
              "      <td>Sage, Master. William Henry</td>\n",
              "      <td>male</td>\n",
              "      <td>14.5</td>\n",
              "      <td>8</td>\n",
              "      <td>2</td>\n",
              "      <td>CA. 2343</td>\n",
              "      <td>69.5500</td>\n",
              "      <td>NaN</td>\n",
              "      <td>S</td>\n",
              "      <td>1</td>\n",
              "    </tr>\n",
              "    <tr>\n",
              "      <th>793</th>\n",
              "      <td>0.0</td>\n",
              "      <td>3</td>\n",
              "      <td>Sage, Miss. Stella Anna</td>\n",
              "      <td>female</td>\n",
              "      <td>NaN</td>\n",
              "      <td>8</td>\n",
              "      <td>2</td>\n",
              "      <td>CA. 2343</td>\n",
              "      <td>69.5500</td>\n",
              "      <td>NaN</td>\n",
              "      <td>S</td>\n",
              "      <td>0</td>\n",
              "    </tr>\n",
              "    <tr>\n",
              "      <th>325</th>\n",
              "      <td>0.0</td>\n",
              "      <td>3</td>\n",
              "      <td>Sage, Mr. George John Jr</td>\n",
              "      <td>male</td>\n",
              "      <td>NaN</td>\n",
              "      <td>8</td>\n",
              "      <td>2</td>\n",
              "      <td>CA. 2343</td>\n",
              "      <td>69.5500</td>\n",
              "      <td>NaN</td>\n",
              "      <td>S</td>\n",
              "      <td>1</td>\n",
              "    </tr>\n",
              "    <tr>\n",
              "      <th>202</th>\n",
              "      <td>0.0</td>\n",
              "      <td>3</td>\n",
              "      <td>Sage, Mr. Frederick</td>\n",
              "      <td>male</td>\n",
              "      <td>NaN</td>\n",
              "      <td>8</td>\n",
              "      <td>2</td>\n",
              "      <td>CA. 2343</td>\n",
              "      <td>69.5500</td>\n",
              "      <td>NaN</td>\n",
              "      <td>S</td>\n",
              "      <td>1</td>\n",
              "    </tr>\n",
              "    <tr>\n",
              "      <th>847</th>\n",
              "      <td>0.0</td>\n",
              "      <td>3</td>\n",
              "      <td>Sage, Mr. Douglas Bullen</td>\n",
              "      <td>male</td>\n",
              "      <td>NaN</td>\n",
              "      <td>8</td>\n",
              "      <td>2</td>\n",
              "      <td>CA. 2343</td>\n",
              "      <td>69.5500</td>\n",
              "      <td>NaN</td>\n",
              "      <td>S</td>\n",
              "      <td>1</td>\n",
              "    </tr>\n",
              "    <tr>\n",
              "      <th>864</th>\n",
              "      <td>0.0</td>\n",
              "      <td>3</td>\n",
              "      <td>Sage, Miss. Dorothy Edith \"Dolly\"</td>\n",
              "      <td>female</td>\n",
              "      <td>NaN</td>\n",
              "      <td>8</td>\n",
              "      <td>2</td>\n",
              "      <td>CA. 2343</td>\n",
              "      <td>69.5500</td>\n",
              "      <td>NaN</td>\n",
              "      <td>S</td>\n",
              "      <td>0</td>\n",
              "    </tr>\n",
              "    <tr>\n",
              "      <th>181</th>\n",
              "      <td>0.0</td>\n",
              "      <td>3</td>\n",
              "      <td>Sage, Miss. Constance Gladys</td>\n",
              "      <td>female</td>\n",
              "      <td>NaN</td>\n",
              "      <td>8</td>\n",
              "      <td>2</td>\n",
              "      <td>CA. 2343</td>\n",
              "      <td>69.5500</td>\n",
              "      <td>NaN</td>\n",
              "      <td>S</td>\n",
              "      <td>0</td>\n",
              "    </tr>\n",
              "    <tr>\n",
              "      <th>160</th>\n",
              "      <td>0.0</td>\n",
              "      <td>3</td>\n",
              "      <td>Sage, Master. Thomas Henry</td>\n",
              "      <td>male</td>\n",
              "      <td>NaN</td>\n",
              "      <td>8</td>\n",
              "      <td>2</td>\n",
              "      <td>CA. 2343</td>\n",
              "      <td>69.5500</td>\n",
              "      <td>NaN</td>\n",
              "      <td>S</td>\n",
              "      <td>1</td>\n",
              "    </tr>\n",
              "    <tr>\n",
              "      <th>1080</th>\n",
              "      <td>NaN</td>\n",
              "      <td>3</td>\n",
              "      <td>Sage, Miss. Ada</td>\n",
              "      <td>female</td>\n",
              "      <td>NaN</td>\n",
              "      <td>8</td>\n",
              "      <td>2</td>\n",
              "      <td>CA. 2343</td>\n",
              "      <td>69.5500</td>\n",
              "      <td>NaN</td>\n",
              "      <td>S</td>\n",
              "      <td>0</td>\n",
              "    </tr>\n",
              "    <tr>\n",
              "      <th>1234</th>\n",
              "      <td>NaN</td>\n",
              "      <td>3</td>\n",
              "      <td>Sage, Mr. John George</td>\n",
              "      <td>male</td>\n",
              "      <td>NaN</td>\n",
              "      <td>1</td>\n",
              "      <td>9</td>\n",
              "      <td>CA. 2343</td>\n",
              "      <td>69.5500</td>\n",
              "      <td>NaN</td>\n",
              "      <td>S</td>\n",
              "      <td>1</td>\n",
              "    </tr>\n",
              "    <tr>\n",
              "      <th>1257</th>\n",
              "      <td>NaN</td>\n",
              "      <td>3</td>\n",
              "      <td>Sage, Mrs. John (Annie Bullen)</td>\n",
              "      <td>female</td>\n",
              "      <td>NaN</td>\n",
              "      <td>1</td>\n",
              "      <td>9</td>\n",
              "      <td>CA. 2343</td>\n",
              "      <td>69.5500</td>\n",
              "      <td>NaN</td>\n",
              "      <td>S</td>\n",
              "      <td>0</td>\n",
              "    </tr>\n",
              "  </tbody>\n",
              "</table>\n",
              "</div>"
            ],
            "text/plain": [
              "             Survived  Pclass                                     Name  \\\n",
              "PassengerId                                                              \n",
              "75                1.0       3                            Bing, Mr. Lee   \n",
              "170               0.0       3                            Ling, Mr. Lee   \n",
              "931               NaN       3                            Hee, Mr. Ling   \n",
              "839               1.0       3                          Chip, Mr. Chang   \n",
              "827               0.0       3                             Lam, Mr. Len   \n",
              "693               1.0       3                             Lam, Mr. Ali   \n",
              "510               1.0       3                           Lang, Mr. Fang   \n",
              "644               1.0       3                          Foo, Mr. Choong   \n",
              "60                0.0       3       Goodwin, Master. William Frederick   \n",
              "1032              NaN       3              Goodwin, Miss. Jessie Allis   \n",
              "1031              NaN       3           Goodwin, Mr. Charles Frederick   \n",
              "679               0.0       3  Goodwin, Mrs. Frederick (Augusta Tyler)   \n",
              "684               0.0       3              Goodwin, Mr. Charles Edward   \n",
              "387               0.0       3          Goodwin, Master. Sidney Leonard   \n",
              "72                0.0       3               Goodwin, Miss. Lillian Amy   \n",
              "481               0.0       3           Goodwin, Master. Harold Victor   \n",
              "1252              NaN       3              Sage, Master. William Henry   \n",
              "793               0.0       3                  Sage, Miss. Stella Anna   \n",
              "325               0.0       3                 Sage, Mr. George John Jr   \n",
              "202               0.0       3                      Sage, Mr. Frederick   \n",
              "847               0.0       3                 Sage, Mr. Douglas Bullen   \n",
              "864               0.0       3        Sage, Miss. Dorothy Edith \"Dolly\"   \n",
              "181               0.0       3             Sage, Miss. Constance Gladys   \n",
              "160               0.0       3               Sage, Master. Thomas Henry   \n",
              "1080              NaN       3                          Sage, Miss. Ada   \n",
              "1234              NaN       3                    Sage, Mr. John George   \n",
              "1257              NaN       3           Sage, Mrs. John (Annie Bullen)   \n",
              "\n",
              "                Sex   Age  SibSp  Parch    Ticket     Fare Cabin Embarked  \\\n",
              "PassengerId                                                                 \n",
              "75             male  32.0      0      0      1601  56.4958   NaN        S   \n",
              "170            male  28.0      0      0      1601  56.4958   NaN        S   \n",
              "931            male   NaN      0      0      1601  56.4958   NaN        S   \n",
              "839            male  32.0      0      0      1601  56.4958   NaN        S   \n",
              "827            male   NaN      0      0      1601  56.4958   NaN        S   \n",
              "693            male   NaN      0      0      1601  56.4958   NaN        S   \n",
              "510            male  26.0      0      0      1601  56.4958   NaN        S   \n",
              "644            male   NaN      0      0      1601  56.4958   NaN        S   \n",
              "60             male  11.0      5      2   CA 2144  46.9000   NaN        S   \n",
              "1032         female  10.0      5      2   CA 2144  46.9000   NaN        S   \n",
              "1031           male  40.0      1      6   CA 2144  46.9000   NaN        S   \n",
              "679          female  43.0      1      6   CA 2144  46.9000   NaN        S   \n",
              "684            male  14.0      5      2   CA 2144  46.9000   NaN        S   \n",
              "387            male   1.0      5      2   CA 2144  46.9000   NaN        S   \n",
              "72           female  16.0      5      2   CA 2144  46.9000   NaN        S   \n",
              "481            male   9.0      5      2   CA 2144  46.9000   NaN        S   \n",
              "1252           male  14.5      8      2  CA. 2343  69.5500   NaN        S   \n",
              "793          female   NaN      8      2  CA. 2343  69.5500   NaN        S   \n",
              "325            male   NaN      8      2  CA. 2343  69.5500   NaN        S   \n",
              "202            male   NaN      8      2  CA. 2343  69.5500   NaN        S   \n",
              "847            male   NaN      8      2  CA. 2343  69.5500   NaN        S   \n",
              "864          female   NaN      8      2  CA. 2343  69.5500   NaN        S   \n",
              "181          female   NaN      8      2  CA. 2343  69.5500   NaN        S   \n",
              "160            male   NaN      8      2  CA. 2343  69.5500   NaN        S   \n",
              "1080         female   NaN      8      2  CA. 2343  69.5500   NaN        S   \n",
              "1234           male   NaN      1      9  CA. 2343  69.5500   NaN        S   \n",
              "1257         female   NaN      1      9  CA. 2343  69.5500   NaN        S   \n",
              "\n",
              "             Sex_mapped  \n",
              "PassengerId              \n",
              "75                    1  \n",
              "170                   1  \n",
              "931                   1  \n",
              "839                   1  \n",
              "827                   1  \n",
              "693                   1  \n",
              "510                   1  \n",
              "644                   1  \n",
              "60                    1  \n",
              "1032                  0  \n",
              "1031                  1  \n",
              "679                   0  \n",
              "684                   1  \n",
              "387                   1  \n",
              "72                    0  \n",
              "481                   1  \n",
              "1252                  1  \n",
              "793                   0  \n",
              "325                   1  \n",
              "202                   1  \n",
              "847                   1  \n",
              "864                   0  \n",
              "181                   0  \n",
              "160                   1  \n",
              "1080                  0  \n",
              "1234                  1  \n",
              "1257                  0  "
            ]
          },
          "execution_count": 27,
          "metadata": {},
          "output_type": "execute_result"
        }
      ],
      "source": [
        "# find Ticket with >= 8 entries\n",
        "df[df.groupby('Ticket').Name.transform(len) >= 8].sort_values('Ticket')"
      ]
    },
    {
      "cell_type": "markdown",
      "metadata": {
        "id": "NIf5AiF7SPw0"
      },
      "source": [
        "It seems that most people with the same `Ticket` number has the same last name, and seeing from `SibSp` and `Parch`, we know that these people are a family. **A good feature to extract can be related to family.**"
      ]
    },
    {
      "cell_type": "markdown",
      "metadata": {
        "id": "ewasxddqxQVS"
      },
      "source": [
        "## 1.2 More Insights on `Sex` Feature"
      ]
    },
    {
      "cell_type": "markdown",
      "metadata": {
        "id": "zfJU-IsoSgxF"
      },
      "source": [
        "Since our previous submission did not beat baseline(which was predict 1 for females and 0 for males), we would like to do some more EDA on the `Sex` column, which was the decisive feature for the baseline model."
      ]
    },
    {
      "cell_type": "code",
      "execution_count": 28,
      "metadata": {
        "colab": {
          "base_uri": "https://localhost:8080/"
        },
        "id": "qjzks0MKvB1W",
        "outputId": "c6217a4b-9796-419a-c3ae-2ebdd005ba78"
      },
      "outputs": [
        {
          "name": "stderr",
          "output_type": "stream",
          "text": [
            "<ipython-input-28-e8820e90b326>:5: SettingWithCopyWarning: \n",
            "A value is trying to be set on a copy of a slice from a DataFrame.\n",
            "Try using .loc[row_indexer,col_indexer] = value instead\n",
            "\n",
            "See the caveats in the documentation: https://pandas.pydata.org/pandas-docs/stable/user_guide/indexing.html#returning-a-view-versus-a-copy\n",
            "  fem['FamilySize'] = fem.Parch + fem.SibSp + 1\n",
            "<ipython-input-28-e8820e90b326>:6: SettingWithCopyWarning: \n",
            "A value is trying to be set on a copy of a slice from a DataFrame.\n",
            "Try using .loc[row_indexer,col_indexer] = value instead\n",
            "\n",
            "See the caveats in the documentation: https://pandas.pydata.org/pandas-docs/stable/user_guide/indexing.html#returning-a-view-versus-a-copy\n",
            "  ma['FamilySize'] = ma.Parch + ma.SibSp + 1\n"
          ]
        }
      ],
      "source": [
        "fem = df[df.Sex == 'female']\n",
        "ma = df[df.Sex == 'male']\n",
        "\n",
        "# adding a FamilySize feature\n",
        "fem['FamilySize'] = fem.Parch + fem.SibSp + 1\n",
        "ma['FamilySize'] = ma.Parch + ma.SibSp + 1"
      ]
    },
    {
      "cell_type": "code",
      "execution_count": 29,
      "metadata": {
        "colab": {
          "base_uri": "https://localhost:8080/",
          "height": 378
        },
        "id": "fES-EflscKy1",
        "outputId": "ffd1600f-4ed6-4219-c19b-942a94afdb21"
      },
      "outputs": [
        {
          "data": {
            "image/png": "[encoded data removed]",
            "text/plain": [
              "<Figure size 1584x360 with 3 Axes>"
            ]
          },
          "metadata": {},
          "output_type": "display_data"
        }
      ],
      "source": [
        "columns = ['Parch', 'SibSp', 'FamilySize']\n",
        "fig = plt.figure(figsize=(22, 5))\n",
        "plt.subplots_adjust(wspace=0.2)\n",
        "palette = sns.color_palette('Set2')[2:7:4]\n",
        "\n",
        "for i in range(3):\n",
        "  plt.subplot(1, 3, i+1)\n",
        "  ax = sns.countplot(data=fem, x=columns[i], hue='Survived', palette=palette)\n",
        "  ax.get_legend().remove()\n",
        "\n",
        "handles, labels = ax.get_legend_handles_labels()\n",
        "fig.legend(handles, labels, bbox_to_anchor=(0.9, 0.9), title='Survived')\n",
        "fig.suptitle('Count Plots for Parch, SibSp, and FamilySize for Female Passengers')\n",
        "sns.despine();"
      ]
    },
    {
      "cell_type": "code",
      "execution_count": 30,
      "metadata": {
        "colab": {
          "base_uri": "https://localhost:8080/",
          "height": 378
        },
        "id": "jbYN2yz6e1Kc",
        "outputId": "fbd9e296-1ce1-4601-c0cc-65532f80d5c6"
      },
      "outputs": [
        {
          "data": {
            "image/png": "[encoded data removed]",
            "text/plain": [
              "<Figure size 1584x360 with 3 Axes>"
            ]
          },
          "metadata": {},
          "output_type": "display_data"
        }
      ],
      "source": [
        "fig = plt.figure(figsize=(22, 5))\n",
        "plt.subplots_adjust(wspace=0.2)\n",
        "palette = sns.color_palette('Set2')[2:7:4]\n",
        "\n",
        "for i in range(3):\n",
        "  plt.subplot(1, 3, i+1)\n",
        "  ax = sns.countplot(data=ma, x=columns[i], hue='Survived', palette=palette)\n",
        "  ax.get_legend().remove()\n",
        "\n",
        "handles, labels = ax.get_legend_handles_labels()\n",
        "fig.legend(handles, labels, bbox_to_anchor=(0.9, 0.9), title='Survived')\n",
        "fig.suptitle('Count Plots for Parch, SibSp, and FamilySize for Male Passengers')\n",
        "sns.despine();"
      ]
    },
    {
      "cell_type": "markdown",
      "metadata": {},
      "source": [
        "When you focus on the left part of each plot, there are way more survived female passengers when number of companies on board is small, but when number of companies on board increased, non-survived passengers starts to outnumber survived passengers. But for male passengers, non-survived passengers has consistently outnumbered survived passengers.\n"
      ]
    },
    {
      "cell_type": "code",
      "execution_count": 31,
      "metadata": {
        "colab": {
          "base_uri": "https://localhost:8080/",
          "height": 397
        },
        "id": "fwPb2XiclM4J",
        "outputId": "385e61e5-0f30-45f1-d438-8662569cc221"
      },
      "outputs": [
        {
          "data": {
            "image/png": "[encoded data removed]",
            "text/plain": [
              "<Figure size 576x432 with 2 Axes>"
            ]
          },
          "metadata": {},
          "output_type": "display_data"
        }
      ],
      "source": [
        "corr = fem.drop(columns='Sex_mapped').corr()\n",
        "mask = np.zeros_like(corr)\n",
        "mask[np.triu_indices_from(mask)] = True\n",
        "\n",
        "plt.subplots(figsize=(8, 6))\n",
        "sns.heatmap(corr, mask=mask, annot=True)\n",
        "plt.title('Correlation Heatmap of Female Passengers', fontdict = {'fontsize' : 14, 'fontweight':'heavy'});"
      ]
    },
    {
      "cell_type": "code",
      "execution_count": 32,
      "metadata": {
        "colab": {
          "base_uri": "https://localhost:8080/",
          "height": 397
        },
        "id": "C_ijs4JVl2__",
        "outputId": "a8b046c7-8867-405a-9a1d-4b5418a7800d"
      },
      "outputs": [
        {
          "data": {
            "image/png": "[encoded data removed]",
            "text/plain": [
              "<Figure size 576x432 with 2 Axes>"
            ]
          },
          "metadata": {},
          "output_type": "display_data"
        }
      ],
      "source": [
        "corr = ma.drop(columns='Sex_mapped').corr()\n",
        "mask = np.zeros_like(corr)\n",
        "mask[np.triu_indices_from(mask)] = True\n",
        "\n",
        "plt.subplots(figsize=(8, 6))\n",
        "sns.heatmap(corr, mask=mask, annot=True)\n",
        "plt.title('Correlation Heatmap of Male Passengers', fontdict = {'fontsize' : 14, 'fontweight':'heavy'});"
      ]
    },
    {
      "cell_type": "markdown",
      "metadata": {
        "id": "f46I4phkxcMn"
      },
      "source": [
        "We can see that while `Survived` is highly correlated with `FamilySize`, `SibSp` and `Parch` for women, it is not the same case as with men!! Therefore, we might want to score females based on their `Parch` feature."
      ]
    },
    {
      "cell_type": "markdown",
      "metadata": {
        "id": "oV8g3SMtxrLs"
      },
      "source": [
        "# Preprocessing"
      ]
    },
    {
      "cell_type": "markdown",
      "metadata": {},
      "source": [
        "## Missing Values"
      ]
    },
    {
      "cell_type": "code",
      "execution_count": 33,
      "metadata": {
        "colab": {
          "base_uri": "https://localhost:8080/",
          "height": 236
        },
        "id": "W8uqfdmH2tr6",
        "outputId": "7f016d06-8fd9-4f99-edb9-6b4a458fb5dc"
      },
      "outputs": [
        {
          "data": {
            "text/html": [
              "<div>\n",
              "<style scoped>\n",
              "    .dataframe tbody tr th:only-of-type {\n",
              "        vertical-align: middle;\n",
              "    }\n",
              "\n",
              "    .dataframe tbody tr th {\n",
              "        vertical-align: top;\n",
              "    }\n",
              "\n",
              "    .dataframe thead th {\n",
              "        text-align: right;\n",
              "    }\n",
              "</style>\n",
              "<table border=\"1\" class=\"dataframe\">\n",
              "  <thead>\n",
              "    <tr style=\"text-align: right;\">\n",
              "      <th></th>\n",
              "      <th>Survived</th>\n",
              "      <th>Pclass</th>\n",
              "      <th>Name</th>\n",
              "      <th>Sex</th>\n",
              "      <th>Age</th>\n",
              "      <th>SibSp</th>\n",
              "      <th>Parch</th>\n",
              "      <th>Ticket</th>\n",
              "      <th>Fare</th>\n",
              "      <th>Cabin</th>\n",
              "      <th>Embarked</th>\n",
              "    </tr>\n",
              "    <tr>\n",
              "      <th>PassengerId</th>\n",
              "      <th></th>\n",
              "      <th></th>\n",
              "      <th></th>\n",
              "      <th></th>\n",
              "      <th></th>\n",
              "      <th></th>\n",
              "      <th></th>\n",
              "      <th></th>\n",
              "      <th></th>\n",
              "      <th></th>\n",
              "      <th></th>\n",
              "    </tr>\n",
              "  </thead>\n",
              "  <tbody>\n",
              "    <tr>\n",
              "      <th>1</th>\n",
              "      <td>0.0</td>\n",
              "      <td>3</td>\n",
              "      <td>Braund, Mr. Owen Harris</td>\n",
              "      <td>male</td>\n",
              "      <td>22.0</td>\n",
              "      <td>1</td>\n",
              "      <td>0</td>\n",
              "      <td>A/5 21171</td>\n",
              "      <td>7.2500</td>\n",
              "      <td>NaN</td>\n",
              "      <td>S</td>\n",
              "    </tr>\n",
              "    <tr>\n",
              "      <th>2</th>\n",
              "      <td>1.0</td>\n",
              "      <td>1</td>\n",
              "      <td>Cumings, Mrs. John Bradley (Florence Briggs Th...</td>\n",
              "      <td>female</td>\n",
              "      <td>38.0</td>\n",
              "      <td>1</td>\n",
              "      <td>0</td>\n",
              "      <td>PC 17599</td>\n",
              "      <td>71.2833</td>\n",
              "      <td>C85</td>\n",
              "      <td>C</td>\n",
              "    </tr>\n",
              "    <tr>\n",
              "      <th>3</th>\n",
              "      <td>1.0</td>\n",
              "      <td>3</td>\n",
              "      <td>Heikkinen, Miss. Laina</td>\n",
              "      <td>female</td>\n",
              "      <td>26.0</td>\n",
              "      <td>0</td>\n",
              "      <td>0</td>\n",
              "      <td>STON/O2. 3101282</td>\n",
              "      <td>7.9250</td>\n",
              "      <td>NaN</td>\n",
              "      <td>S</td>\n",
              "    </tr>\n",
              "    <tr>\n",
              "      <th>4</th>\n",
              "      <td>1.0</td>\n",
              "      <td>1</td>\n",
              "      <td>Futrelle, Mrs. Jacques Heath (Lily May Peel)</td>\n",
              "      <td>female</td>\n",
              "      <td>35.0</td>\n",
              "      <td>1</td>\n",
              "      <td>0</td>\n",
              "      <td>113803</td>\n",
              "      <td>53.1000</td>\n",
              "      <td>C123</td>\n",
              "      <td>S</td>\n",
              "    </tr>\n",
              "    <tr>\n",
              "      <th>5</th>\n",
              "      <td>0.0</td>\n",
              "      <td>3</td>\n",
              "      <td>Allen, Mr. William Henry</td>\n",
              "      <td>male</td>\n",
              "      <td>35.0</td>\n",
              "      <td>0</td>\n",
              "      <td>0</td>\n",
              "      <td>373450</td>\n",
              "      <td>8.0500</td>\n",
              "      <td>NaN</td>\n",
              "      <td>S</td>\n",
              "    </tr>\n",
              "  </tbody>\n",
              "</table>\n",
              "</div>"
            ],
            "text/plain": [
              "             Survived  Pclass  \\\n",
              "PassengerId                     \n",
              "1                 0.0       3   \n",
              "2                 1.0       1   \n",
              "3                 1.0       3   \n",
              "4                 1.0       1   \n",
              "5                 0.0       3   \n",
              "\n",
              "                                                          Name     Sex   Age  \\\n",
              "PassengerId                                                                    \n",
              "1                                      Braund, Mr. Owen Harris    male  22.0   \n",
              "2            Cumings, Mrs. John Bradley (Florence Briggs Th...  female  38.0   \n",
              "3                                       Heikkinen, Miss. Laina  female  26.0   \n",
              "4                 Futrelle, Mrs. Jacques Heath (Lily May Peel)  female  35.0   \n",
              "5                                     Allen, Mr. William Henry    male  35.0   \n",
              "\n",
              "             SibSp  Parch            Ticket     Fare Cabin Embarked  \n",
              "PassengerId                                                          \n",
              "1                1      0         A/5 21171   7.2500   NaN        S  \n",
              "2                1      0          PC 17599  71.2833   C85        C  \n",
              "3                0      0  STON/O2. 3101282   7.9250   NaN        S  \n",
              "4                1      0            113803  53.1000  C123        S  \n",
              "5                0      0            373450   8.0500   NaN        S  "
            ]
          },
          "execution_count": 33,
          "metadata": {},
          "output_type": "execute_result"
        }
      ],
      "source": [
        "data = pd.concat([train, test], axis=0, sort=False)\n",
        "\n",
        "data.head()"
      ]
    },
    {
      "cell_type": "code",
      "execution_count": 34,
      "metadata": {
        "id": "1n44jc1P2yQ6"
      },
      "outputs": [],
      "source": [
        "# binary sex\n",
        "data['Sex'] = data.Sex.map({'female':0,'male':1})"
      ]
    },
    {
      "cell_type": "code",
      "execution_count": 35,
      "metadata": {
        "id": "qK8jc1Nc20Fz"
      },
      "outputs": [],
      "source": [
        "# fill age with Pclass-Sex mean \n",
        "data[\"Age\"].fillna(data.groupby('Pclass')['Age'].transform('mean'), inplace=True)"
      ]
    },
    {
      "cell_type": "code",
      "execution_count": 36,
      "metadata": {
        "id": "YgfUDcer22kV"
      },
      "outputs": [],
      "source": [
        "# fill Fare with Pclass-Sex mean \n",
        "data[\"Fare\"].fillna(data.groupby('Pclass')['Fare'].transform('mean'), inplace=True)"
      ]
    },
    {
      "cell_type": "code",
      "execution_count": 37,
      "metadata": {
        "colab": {
          "base_uri": "https://localhost:8080/",
          "height": 236
        },
        "id": "4QMEwM6c2war",
        "outputId": "6c8f46e4-f99c-4987-afb7-555f48566464"
      },
      "outputs": [
        {
          "data": {
            "text/html": [
              "<div>\n",
              "<style scoped>\n",
              "    .dataframe tbody tr th:only-of-type {\n",
              "        vertical-align: middle;\n",
              "    }\n",
              "\n",
              "    .dataframe tbody tr th {\n",
              "        vertical-align: top;\n",
              "    }\n",
              "\n",
              "    .dataframe thead th {\n",
              "        text-align: right;\n",
              "    }\n",
              "</style>\n",
              "<table border=\"1\" class=\"dataframe\">\n",
              "  <thead>\n",
              "    <tr style=\"text-align: right;\">\n",
              "      <th></th>\n",
              "      <th>Survived</th>\n",
              "      <th>Pclass</th>\n",
              "      <th>Sex</th>\n",
              "      <th>Age</th>\n",
              "      <th>SibSp</th>\n",
              "      <th>Parch</th>\n",
              "      <th>Ticket</th>\n",
              "      <th>Fare</th>\n",
              "    </tr>\n",
              "    <tr>\n",
              "      <th>PassengerId</th>\n",
              "      <th></th>\n",
              "      <th></th>\n",
              "      <th></th>\n",
              "      <th></th>\n",
              "      <th></th>\n",
              "      <th></th>\n",
              "      <th></th>\n",
              "      <th></th>\n",
              "    </tr>\n",
              "  </thead>\n",
              "  <tbody>\n",
              "    <tr>\n",
              "      <th>1</th>\n",
              "      <td>0.0</td>\n",
              "      <td>3</td>\n",
              "      <td>1</td>\n",
              "      <td>22.0</td>\n",
              "      <td>1</td>\n",
              "      <td>0</td>\n",
              "      <td>A/5 21171</td>\n",
              "      <td>7.2500</td>\n",
              "    </tr>\n",
              "    <tr>\n",
              "      <th>2</th>\n",
              "      <td>1.0</td>\n",
              "      <td>1</td>\n",
              "      <td>0</td>\n",
              "      <td>38.0</td>\n",
              "      <td>1</td>\n",
              "      <td>0</td>\n",
              "      <td>PC 17599</td>\n",
              "      <td>71.2833</td>\n",
              "    </tr>\n",
              "    <tr>\n",
              "      <th>3</th>\n",
              "      <td>1.0</td>\n",
              "      <td>3</td>\n",
              "      <td>0</td>\n",
              "      <td>26.0</td>\n",
              "      <td>0</td>\n",
              "      <td>0</td>\n",
              "      <td>STON/O2. 3101282</td>\n",
              "      <td>7.9250</td>\n",
              "    </tr>\n",
              "    <tr>\n",
              "      <th>4</th>\n",
              "      <td>1.0</td>\n",
              "      <td>1</td>\n",
              "      <td>0</td>\n",
              "      <td>35.0</td>\n",
              "      <td>1</td>\n",
              "      <td>0</td>\n",
              "      <td>113803</td>\n",
              "      <td>53.1000</td>\n",
              "    </tr>\n",
              "    <tr>\n",
              "      <th>5</th>\n",
              "      <td>0.0</td>\n",
              "      <td>3</td>\n",
              "      <td>1</td>\n",
              "      <td>35.0</td>\n",
              "      <td>0</td>\n",
              "      <td>0</td>\n",
              "      <td>373450</td>\n",
              "      <td>8.0500</td>\n",
              "    </tr>\n",
              "  </tbody>\n",
              "</table>\n",
              "</div>"
            ],
            "text/plain": [
              "             Survived  Pclass  Sex   Age  SibSp  Parch            Ticket  \\\n",
              "PassengerId                                                                \n",
              "1                 0.0       3    1  22.0      1      0         A/5 21171   \n",
              "2                 1.0       1    0  38.0      1      0          PC 17599   \n",
              "3                 1.0       3    0  26.0      0      0  STON/O2. 3101282   \n",
              "4                 1.0       1    0  35.0      1      0            113803   \n",
              "5                 0.0       3    1  35.0      0      0            373450   \n",
              "\n",
              "                Fare  \n",
              "PassengerId           \n",
              "1             7.2500  \n",
              "2            71.2833  \n",
              "3             7.9250  \n",
              "4            53.1000  \n",
              "5             8.0500  "
            ]
          },
          "execution_count": 37,
          "metadata": {},
          "output_type": "execute_result"
        }
      ],
      "source": [
        "# drop unused infos\n",
        "data = data.drop(['Cabin','Embarked','Name'], axis = 1)\n",
        "data.head()"
      ]
    },
    {
      "cell_type": "markdown",
      "metadata": {
        "id": "XDQ8ANeWUS79"
      },
      "source": [
        "We decided to drop `Embarked` column because kaggle submission shows that without `Embarked` the accuracy was much higher."
      ]
    },
    {
      "cell_type": "markdown",
      "metadata": {
        "id": "vQUSSnY9uA7y",
        "papermill": {
          "duration": 0.058237,
          "end_time": "2021-04-25T23:12:35.674379",
          "exception": false,
          "start_time": "2021-04-25T23:12:35.616142",
          "status": "completed"
        },
        "tags": []
      },
      "source": [
        "## Feature Engineering"
      ]
    },
    {
      "cell_type": "code",
      "execution_count": 38,
      "metadata": {
        "id": "SrbdCQeJ3AmU"
      },
      "outputs": [],
      "source": [
        "# 5 level encoding\n",
        "le = LabelEncoder()\n",
        "data['Fare'] = le.fit_transform(pd.cut(data['Fare'],5)) \n",
        "data['Age'] = le.fit_transform(pd.cut(data['Age'], 5)) "
      ]
    },
    {
      "cell_type": "code",
      "execution_count": 39,
      "metadata": {
        "id": "7ESxMKZS3Bps"
      },
      "outputs": [],
      "source": [
        "data['FamilySize'] = data['SibSp']+ data['Parch'] + 1"
      ]
    },
    {
      "cell_type": "markdown",
      "metadata": {},
      "source": [
        "### New Ordinal Feature: ComScore (score female passengers based on number of companies on board)"
      ]
    },
    {
      "cell_type": "code",
      "execution_count": 40,
      "metadata": {
        "id": "Rm4XyJk73D6d"
      },
      "outputs": [],
      "source": [
        "# female Parch engineering -> new feature: company score\n",
        "data['ComScore'] = 3                                                                             # Male\n",
        "data.loc[(data['Parch'] == 0)  & (data['Sex'] == 0), 'ComScore'] = 0                             # Small Family \n",
        "data.loc[(data['Parch'] == 1) & (data['FamilySize'] == 2)& (data['Sex'] == 0), 'ComScore'] = -1  # Parent Child Family\n",
        "data.loc[(data['Parch'] == 1) & (data['FamilySize'] > 2) & (data['Sex'] == 0), 'ComScore'] = 1   # PC with siblings\n",
        "data.loc[(data['Parch']  >= 2) & (data['Sex'] == 0), 'ComScore'] = 2                             # Large Family "
      ]
    },
    {
      "cell_type": "code",
      "execution_count": 41,
      "metadata": {
        "colab": {
          "base_uri": "https://localhost:8080/"
        },
        "id": "moCEpo4BapWo",
        "outputId": "167482a6-c098-4074-f54d-071460306237"
      },
      "outputs": [
        {
          "data": {
            "text/plain": [
              "ComScore\n",
              "-1     33\n",
              " 0    293\n",
              " 1     55\n",
              " 2     85\n",
              " 3    843\n",
              "dtype: int64"
            ]
          },
          "execution_count": 41,
          "metadata": {},
          "output_type": "execute_result"
        }
      ],
      "source": [
        "data.groupby('ComScore').size()"
      ]
    },
    {
      "cell_type": "code",
      "execution_count": 42,
      "metadata": {
        "id": "Df-xhFCMa0Ic"
      },
      "outputs": [],
      "source": [
        "survival_rate = data[:891].groupby('ComScore').apply(lambda x: '{}%'.format(round((x.Survived == 1).sum() / len(x) * 100, 2))).sort_index(ascending=False).values"
      ]
    },
    {
      "cell_type": "code",
      "execution_count": 43,
      "metadata": {
        "colab": {
          "base_uri": "https://localhost:8080/",
          "height": 522
        },
        "id": "UKWcWejbbHo2",
        "outputId": "378de303-e5bf-4aae-f4ad-6a58309dcc3a"
      },
      "outputs": [
        {
          "data": {
            "image/png": "[encoded data removed]",
            "text/plain": [
              "<Figure size 720x576 with 1 Axes>"
            ]
          },
          "metadata": {},
          "output_type": "display_data"
        }
      ],
      "source": [
        "fig = plt.figure(figsize=(10, 8))\n",
        "palette = sns.color_palette('Set2')[2:7:4]\n",
        "ax = sns.countplot(data=data, x='ComScore', order=[3,2,1,0,-1], hue='Survived', palette=palette)\n",
        "\n",
        "# annotate with survival rate\n",
        "bars = ax.patches\n",
        "half = int(len(bars)/2)\n",
        "left_bars = bars[:half]\n",
        "right_bars = bars[half:]\n",
        "\n",
        "for left, right, rate in zip(left_bars, right_bars, survival_rate):\n",
        "  height_l = left.get_height()\n",
        "  height_r = right.get_height()\n",
        "  total = height_l + height_r\n",
        "\n",
        "  ax.text(left.get_x() + 0.25, max(height_l, height_r) + 10, rate)\n",
        "  # ax.text(left.get_x() + left.get_width()/2., height_l + 40, '{0:.0%}'.format(height_l/total), ha=\"center\")\n",
        "  # ax.text(right.get_x() + right.get_width()/2., height_r + 40, '{0:.0%}'.format(height_r/total), ha=\"center\")\n",
        "plt.title('Count Plot of ComScore Feature (with survival rate)', fontdict = {'fontsize' : 14, 'fontweight':'heavy'})\n",
        "sns.despine();"
      ]
    },
    {
      "cell_type": "markdown",
      "metadata": {},
      "source": [
        "This new feature `ComScore` captures the trend we saw more or less. You can see that the survival rate for a score of 3 is the lowest and it increases as the score reaches -1.\n"
      ]
    },
    {
      "cell_type": "code",
      "execution_count": 44,
      "metadata": {
        "id": "sBeL87Ye3Fbq"
      },
      "outputs": [],
      "source": [
        "# Family size binning\n",
        "data.loc[data['FamilySize'] == 1, 'FamilySize'] = 1                                # Alone\n",
        "data.loc[(data['FamilySize'] >= 2) & (data['FamilySize'] <= 4), 'FamilySize'] = 0  # Small Family \n",
        "data.loc[(data['FamilySize'] >= 5) & (data['FamilySize'] <= 6), 'FamilySize'] = 2  # Medium Family\n",
        "data.loc[data['FamilySize']  >= 7, 'FamilySize'] = 3                               # Large Family "
      ]
    },
    {
      "cell_type": "code",
      "execution_count": 45,
      "metadata": {
        "id": "P_qyA04P3IZ5"
      },
      "outputs": [],
      "source": [
        "# keeps only ticket number and assign random to LINE\n",
        "data.Ticket = data.Ticket.replace(\"LINE\",\"244\")\n",
        "data['Ticket'] = data.Ticket.str.split().apply(lambda x : x[:][-1])\n",
        "data.Ticket = data.Ticket.values.astype('int64')"
      ]
    },
    {
      "cell_type": "markdown",
      "metadata": {},
      "source": [
        "### New Numerical Feature: WCrate (the survival rate of women and child in each family(same ticket number))"
      ]
    },
    {
      "cell_type": "code",
      "execution_count": 46,
      "metadata": {
        "id": "SPVyQq0r3LWN"
      },
      "outputs": [],
      "source": [
        "data['FemChi'] = ((data['Age'] == 0) | (data['Sex'] == 0))\n",
        "family = data.groupby([data.Ticket]).Survived\n",
        "\n",
        "data['WCcount'] = family.transform(lambda s: s[data.FemChi].fillna(0).count())# count how many female and childs in each family\n",
        "data['WCcount'] = data.mask(data.FemChi, data['WCcount'] , axis=0)\n",
        "\n",
        "data['WCsurvived'] = family.transform(lambda s: s[data.FemChi].sum())# sum how many female and childs survived in each family\n",
        "data['WCsurvived'] = data.mask(data.FemChi, data.WCsurvived - data.Survived.fillna(0), axis=0)\n",
        "\n",
        "# compute the survival rate of female and childs in each family\n",
        "data['WCrate'] = (data.WCsurvived / data.WCcount.replace(0, np.nan))\n",
        "data['WCrate'].fillna(0, inplace = True)"
      ]
    },
    {
      "cell_type": "markdown",
      "metadata": {},
      "source": [
        "For this feature, please refer to [this notebook](https://www.kaggle.com/javiervallejos/titanic-simple-decision-tree-model-score-top-3?scriptVersionId=74284968) for more detail."
      ]
    },
    {
      "cell_type": "markdown",
      "metadata": {},
      "source": [
        "## One Hot Encoding and Scaling"
      ]
    },
    {
      "cell_type": "code",
      "execution_count": 47,
      "metadata": {
        "id": "wmnbWxSk3NyZ"
      },
      "outputs": [],
      "source": [
        "# drop unused variables\n",
        "data.drop(['WCcount','WCsurvived','FemChi','SibSp','Parch'], axis = 1, inplace = True)"
      ]
    },
    {
      "cell_type": "code",
      "execution_count": 48,
      "metadata": {
        "colab": {
          "base_uri": "https://localhost:8080/",
          "height": 236
        },
        "id": "S5Fi9N2taxRk",
        "outputId": "c4bdb885-a800-470e-e173-d1bbfbf4fa84"
      },
      "outputs": [
        {
          "data": {
            "text/html": [
              "<div>\n",
              "<style scoped>\n",
              "    .dataframe tbody tr th:only-of-type {\n",
              "        vertical-align: middle;\n",
              "    }\n",
              "\n",
              "    .dataframe tbody tr th {\n",
              "        vertical-align: top;\n",
              "    }\n",
              "\n",
              "    .dataframe thead th {\n",
              "        text-align: right;\n",
              "    }\n",
              "</style>\n",
              "<table border=\"1\" class=\"dataframe\">\n",
              "  <thead>\n",
              "    <tr style=\"text-align: right;\">\n",
              "      <th></th>\n",
              "      <th>Survived</th>\n",
              "      <th>Pclass</th>\n",
              "      <th>Sex</th>\n",
              "      <th>Age</th>\n",
              "      <th>Ticket</th>\n",
              "      <th>Fare</th>\n",
              "      <th>FamilySize</th>\n",
              "      <th>ComScore</th>\n",
              "      <th>WCrate</th>\n",
              "    </tr>\n",
              "    <tr>\n",
              "      <th>PassengerId</th>\n",
              "      <th></th>\n",
              "      <th></th>\n",
              "      <th></th>\n",
              "      <th></th>\n",
              "      <th></th>\n",
              "      <th></th>\n",
              "      <th></th>\n",
              "      <th></th>\n",
              "      <th></th>\n",
              "    </tr>\n",
              "  </thead>\n",
              "  <tbody>\n",
              "    <tr>\n",
              "      <th>1</th>\n",
              "      <td>0.0</td>\n",
              "      <td>3</td>\n",
              "      <td>1</td>\n",
              "      <td>1</td>\n",
              "      <td>21171</td>\n",
              "      <td>0</td>\n",
              "      <td>0</td>\n",
              "      <td>3</td>\n",
              "      <td>0.0</td>\n",
              "    </tr>\n",
              "    <tr>\n",
              "      <th>2</th>\n",
              "      <td>1.0</td>\n",
              "      <td>1</td>\n",
              "      <td>0</td>\n",
              "      <td>2</td>\n",
              "      <td>17599</td>\n",
              "      <td>0</td>\n",
              "      <td>0</td>\n",
              "      <td>0</td>\n",
              "      <td>0.0</td>\n",
              "    </tr>\n",
              "    <tr>\n",
              "      <th>3</th>\n",
              "      <td>1.0</td>\n",
              "      <td>3</td>\n",
              "      <td>0</td>\n",
              "      <td>1</td>\n",
              "      <td>3101282</td>\n",
              "      <td>0</td>\n",
              "      <td>1</td>\n",
              "      <td>0</td>\n",
              "      <td>0.0</td>\n",
              "    </tr>\n",
              "    <tr>\n",
              "      <th>4</th>\n",
              "      <td>1.0</td>\n",
              "      <td>1</td>\n",
              "      <td>0</td>\n",
              "      <td>2</td>\n",
              "      <td>113803</td>\n",
              "      <td>0</td>\n",
              "      <td>0</td>\n",
              "      <td>0</td>\n",
              "      <td>0.0</td>\n",
              "    </tr>\n",
              "    <tr>\n",
              "      <th>5</th>\n",
              "      <td>0.0</td>\n",
              "      <td>3</td>\n",
              "      <td>1</td>\n",
              "      <td>2</td>\n",
              "      <td>373450</td>\n",
              "      <td>0</td>\n",
              "      <td>1</td>\n",
              "      <td>3</td>\n",
              "      <td>0.0</td>\n",
              "    </tr>\n",
              "  </tbody>\n",
              "</table>\n",
              "</div>"
            ],
            "text/plain": [
              "             Survived  Pclass  Sex  Age   Ticket  Fare  FamilySize  ComScore  \\\n",
              "PassengerId                                                                    \n",
              "1                 0.0       3    1    1    21171     0           0         3   \n",
              "2                 1.0       1    0    2    17599     0           0         0   \n",
              "3                 1.0       3    0    1  3101282     0           1         0   \n",
              "4                 1.0       1    0    2   113803     0           0         0   \n",
              "5                 0.0       3    1    2   373450     0           1         3   \n",
              "\n",
              "             WCrate  \n",
              "PassengerId          \n",
              "1               0.0  \n",
              "2               0.0  \n",
              "3               0.0  \n",
              "4               0.0  \n",
              "5               0.0  "
            ]
          },
          "execution_count": 48,
          "metadata": {},
          "output_type": "execute_result"
        }
      ],
      "source": [
        "data.head()"
      ]
    },
    {
      "cell_type": "code",
      "execution_count": 49,
      "metadata": {
        "colab": {
          "base_uri": "https://localhost:8080/",
          "height": 236
        },
        "id": "WLH1s6gU3SCg",
        "outputId": "a3ba2588-b493-44d4-9a98-e58eddb7c544"
      },
      "outputs": [
        {
          "data": {
            "text/html": [
              "<div>\n",
              "<style scoped>\n",
              "    .dataframe tbody tr th:only-of-type {\n",
              "        vertical-align: middle;\n",
              "    }\n",
              "\n",
              "    .dataframe tbody tr th {\n",
              "        vertical-align: top;\n",
              "    }\n",
              "\n",
              "    .dataframe thead th {\n",
              "        text-align: right;\n",
              "    }\n",
              "</style>\n",
              "<table border=\"1\" class=\"dataframe\">\n",
              "  <thead>\n",
              "    <tr style=\"text-align: right;\">\n",
              "      <th></th>\n",
              "      <th>Survived</th>\n",
              "      <th>Age</th>\n",
              "      <th>Ticket</th>\n",
              "      <th>FamilySize</th>\n",
              "      <th>ComScore</th>\n",
              "      <th>WCrate</th>\n",
              "      <th>Sex_0</th>\n",
              "      <th>Sex_1</th>\n",
              "      <th>Pclass_1</th>\n",
              "      <th>Pclass_2</th>\n",
              "      <th>Pclass_3</th>\n",
              "      <th>Fare_0</th>\n",
              "      <th>Fare_1</th>\n",
              "      <th>Fare_2</th>\n",
              "      <th>Fare_3</th>\n",
              "    </tr>\n",
              "    <tr>\n",
              "      <th>PassengerId</th>\n",
              "      <th></th>\n",
              "      <th></th>\n",
              "      <th></th>\n",
              "      <th></th>\n",
              "      <th></th>\n",
              "      <th></th>\n",
              "      <th></th>\n",
              "      <th></th>\n",
              "      <th></th>\n",
              "      <th></th>\n",
              "      <th></th>\n",
              "      <th></th>\n",
              "      <th></th>\n",
              "      <th></th>\n",
              "      <th></th>\n",
              "    </tr>\n",
              "  </thead>\n",
              "  <tbody>\n",
              "    <tr>\n",
              "      <th>1</th>\n",
              "      <td>0.0</td>\n",
              "      <td>1</td>\n",
              "      <td>21171</td>\n",
              "      <td>0</td>\n",
              "      <td>3</td>\n",
              "      <td>0.0</td>\n",
              "      <td>0</td>\n",
              "      <td>1</td>\n",
              "      <td>0</td>\n",
              "      <td>0</td>\n",
              "      <td>1</td>\n",
              "      <td>1</td>\n",
              "      <td>0</td>\n",
              "      <td>0</td>\n",
              "      <td>0</td>\n",
              "    </tr>\n",
              "    <tr>\n",
              "      <th>2</th>\n",
              "      <td>1.0</td>\n",
              "      <td>2</td>\n",
              "      <td>17599</td>\n",
              "      <td>0</td>\n",
              "      <td>0</td>\n",
              "      <td>0.0</td>\n",
              "      <td>1</td>\n",
              "      <td>0</td>\n",
              "      <td>1</td>\n",
              "      <td>0</td>\n",
              "      <td>0</td>\n",
              "      <td>1</td>\n",
              "      <td>0</td>\n",
              "      <td>0</td>\n",
              "      <td>0</td>\n",
              "    </tr>\n",
              "    <tr>\n",
              "      <th>3</th>\n",
              "      <td>1.0</td>\n",
              "      <td>1</td>\n",
              "      <td>3101282</td>\n",
              "      <td>1</td>\n",
              "      <td>0</td>\n",
              "      <td>0.0</td>\n",
              "      <td>1</td>\n",
              "      <td>0</td>\n",
              "      <td>0</td>\n",
              "      <td>0</td>\n",
              "      <td>1</td>\n",
              "      <td>1</td>\n",
              "      <td>0</td>\n",
              "      <td>0</td>\n",
              "      <td>0</td>\n",
              "    </tr>\n",
              "    <tr>\n",
              "      <th>4</th>\n",
              "      <td>1.0</td>\n",
              "      <td>2</td>\n",
              "      <td>113803</td>\n",
              "      <td>0</td>\n",
              "      <td>0</td>\n",
              "      <td>0.0</td>\n",
              "      <td>1</td>\n",
              "      <td>0</td>\n",
              "      <td>1</td>\n",
              "      <td>0</td>\n",
              "      <td>0</td>\n",
              "      <td>1</td>\n",
              "      <td>0</td>\n",
              "      <td>0</td>\n",
              "      <td>0</td>\n",
              "    </tr>\n",
              "    <tr>\n",
              "      <th>5</th>\n",
              "      <td>0.0</td>\n",
              "      <td>2</td>\n",
              "      <td>373450</td>\n",
              "      <td>1</td>\n",
              "      <td>3</td>\n",
              "      <td>0.0</td>\n",
              "      <td>0</td>\n",
              "      <td>1</td>\n",
              "      <td>0</td>\n",
              "      <td>0</td>\n",
              "      <td>1</td>\n",
              "      <td>1</td>\n",
              "      <td>0</td>\n",
              "      <td>0</td>\n",
              "      <td>0</td>\n",
              "    </tr>\n",
              "  </tbody>\n",
              "</table>\n",
              "</div>"
            ],
            "text/plain": [
              "             Survived  Age   Ticket  FamilySize  ComScore  WCrate  Sex_0  \\\n",
              "PassengerId                                                                \n",
              "1                 0.0    1    21171           0         3     0.0      0   \n",
              "2                 1.0    2    17599           0         0     0.0      1   \n",
              "3                 1.0    1  3101282           1         0     0.0      1   \n",
              "4                 1.0    2   113803           0         0     0.0      1   \n",
              "5                 0.0    2   373450           1         3     0.0      0   \n",
              "\n",
              "             Sex_1  Pclass_1  Pclass_2  Pclass_3  Fare_0  Fare_1  Fare_2  \\\n",
              "PassengerId                                                                \n",
              "1                1         0         0         1       1       0       0   \n",
              "2                0         1         0         0       1       0       0   \n",
              "3                0         0         0         1       1       0       0   \n",
              "4                0         1         0         0       1       0       0   \n",
              "5                1         0         0         1       1       0       0   \n",
              "\n",
              "             Fare_3  \n",
              "PassengerId          \n",
              "1                 0  \n",
              "2                 0  \n",
              "3                 0  \n",
              "4                 0  \n",
              "5                 0  "
            ]
          },
          "execution_count": 49,
          "metadata": {},
          "output_type": "execute_result"
        }
      ],
      "source": [
        "# onehot encoding\n",
        "# for Sex we think retaining more redundancy can help prediction in deeper layers\n",
        "# for low relevance features('Pclass','Fare','Pclass') use onehot encoding \n",
        "# for high relevance features('Parch'), use integer to preserve encoded preference\n",
        "# for \"Ticket\" with many discrete values, we use min_smaple_split in DecisionTree to prevent overfitting\n",
        "data = pd.get_dummies(data, columns=['Sex','Pclass','Fare'])\n",
        "data.head()"
      ]
    },
    {
      "cell_type": "code",
      "execution_count": 50,
      "metadata": {
        "id": "J9f-tTXZ3VBL"
      },
      "outputs": [],
      "source": [
        "# indexing train and test by Passenger id\n",
        "data['PassengerId'] = data.index\n",
        "train, test = data.loc[train.index], data.loc[test.index]\n",
        "X_train = train.drop(['Survived','PassengerId'], axis = 1)\n",
        "col_names = X_train.columns\n",
        "y_train = train[\"Survived\"]\n",
        "\n",
        "X_test = test.drop(['Survived','PassengerId'], axis = 1)"
      ]
    },
    {
      "cell_type": "code",
      "execution_count": 51,
      "metadata": {
        "id": "GSRohHG33Wn5"
      },
      "outputs": [],
      "source": [
        "# Scaling\n",
        "sc = StandardScaler()\n",
        "X_train = sc.fit_transform(X_train)\n",
        "X_test = sc.fit_transform(X_test)"
      ]
    },
    {
      "cell_type": "markdown",
      "metadata": {
        "id": "vag1q2iP3PtP"
      },
      "source": [
        "# Modeling"
      ]
    },
    {
      "cell_type": "code",
      "execution_count": 52,
      "metadata": {
        "colab": {
          "base_uri": "https://localhost:8080/"
        },
        "id": "9UQA9h832lb4",
        "outputId": "4156666b-b0da-4051-c366-7638c097389f"
      },
      "outputs": [
        {
          "name": "stdout",
          "output_type": "stream",
          "text": [
            "train_acc 0.9943883277216611\n"
          ]
        }
      ],
      "source": [
        "# min_samples_split==2 will leads to acc==1.0 (total fit), so we inscrease it to 3 [though this is still quite a overfit]\n",
        "decision_tree = DecisionTreeClassifier(min_samples_split=3)\n",
        "decision_tree.fit(X_train, y_train)\n",
        "print(\"train_acc\",decision_tree.score(X_train, y_train))"
      ]
    },
    {
      "cell_type": "code",
      "execution_count": 53,
      "metadata": {
        "colab": {
          "base_uri": "https://localhost:8080/"
        },
        "id": "wllCeY4OWbEk",
        "outputId": "19c1eaf9-6ac0-4b8e-ebf6-590d11141c7d"
      },
      "outputs": [
        {
          "name": "stdout",
          "output_type": "stream",
          "text": [
            "[0.88268156 0.89325843 0.91573034 0.92696629 0.92134831]\n",
            "model accuracy of decision tree validated by cv=5 is 0.9079969870064655\n"
          ]
        }
      ],
      "source": [
        "cv_score = cross_val_score(decision_tree, X_train, y_train, cv=5)\n",
        "print(cv_score)\n",
        "print('model accuracy of decision tree validated by cv=5 is', cv_score.mean())"
      ]
    },
    {
      "cell_type": "markdown",
      "metadata": {},
      "source": [
        "## Feature Importance"
      ]
    },
    {
      "cell_type": "code",
      "execution_count": 54,
      "metadata": {
        "colab": {
          "base_uri": "https://localhost:8080/",
          "height": 358
        },
        "id": "5OQz1ZISZuYr",
        "outputId": "9a7dccef-e2bf-41e2-afeb-3d5507144e73"
      },
      "outputs": [
        {
          "data": {
            "image/png": "[encoded data removed]",
            "text/plain": [
              "<Figure size 576x360 with 1 Axes>"
            ]
          },
          "metadata": {},
          "output_type": "display_data"
        }
      ],
      "source": [
        "importances = pd.DataFrame({'gini_importance':decision_tree.feature_importances_}, index = col_names)\n",
        "importances.sort_values('gini_importance', inplace=True, ascending=False)\n",
        "importances = importances.iloc[0:5,:]\n",
        "\n",
        "plt.figure(figsize=(8, 5)) \n",
        "sns.barplot(x=importances.gini_importance, y=importances.index, data=importances,palette=\"Set2\").set_title(\"Feature Importances\");\n",
        "sns.despine()"
      ]
    },
    {
      "cell_type": "code",
      "execution_count": 55,
      "metadata": {
        "id": "7p7HvHBp3ZLf"
      },
      "outputs": [],
      "source": [
        "test_pred = decision_tree.predict(X_test)\n",
        "answer = pd.DataFrame({\"PassengerId\":test.PassengerId, \n",
        "                        'Survived':test_pred.astype(int)})\n",
        "answer.reset_index(drop=True, inplace=True)\n",
        "# answer.to_csv(\"244_submission.csv\",index = False)"
      ]
    },
    {
      "cell_type": "code",
      "execution_count": 56,
      "metadata": {
        "colab": {
          "base_uri": "https://localhost:8080/",
          "height": 236
        },
        "id": "jVJtD08QczgW",
        "outputId": "75aff205-ac2e-453c-8d55-bd0bfaf0e8af"
      },
      "outputs": [
        {
          "data": {
            "text/html": [
              "<div>\n",
              "<style scoped>\n",
              "    .dataframe tbody tr th:only-of-type {\n",
              "        vertical-align: middle;\n",
              "    }\n",
              "\n",
              "    .dataframe tbody tr th {\n",
              "        vertical-align: top;\n",
              "    }\n",
              "\n",
              "    .dataframe thead th {\n",
              "        text-align: right;\n",
              "    }\n",
              "</style>\n",
              "<table border=\"1\" class=\"dataframe\">\n",
              "  <thead>\n",
              "    <tr style=\"text-align: right;\">\n",
              "      <th></th>\n",
              "      <th>PassengerId</th>\n",
              "      <th>Survived</th>\n",
              "    </tr>\n",
              "  </thead>\n",
              "  <tbody>\n",
              "    <tr>\n",
              "      <th>0</th>\n",
              "      <td>892</td>\n",
              "      <td>0</td>\n",
              "    </tr>\n",
              "    <tr>\n",
              "      <th>1</th>\n",
              "      <td>893</td>\n",
              "      <td>0</td>\n",
              "    </tr>\n",
              "    <tr>\n",
              "      <th>2</th>\n",
              "      <td>894</td>\n",
              "      <td>0</td>\n",
              "    </tr>\n",
              "    <tr>\n",
              "      <th>3</th>\n",
              "      <td>895</td>\n",
              "      <td>0</td>\n",
              "    </tr>\n",
              "    <tr>\n",
              "      <th>4</th>\n",
              "      <td>896</td>\n",
              "      <td>1</td>\n",
              "    </tr>\n",
              "  </tbody>\n",
              "</table>\n",
              "</div>"
            ],
            "text/plain": [
              "   PassengerId  Survived\n",
              "0          892         0\n",
              "1          893         0\n",
              "2          894         0\n",
              "3          895         0\n",
              "4          896         1"
            ]
          },
          "execution_count": 56,
          "metadata": {},
          "output_type": "execute_result"
        }
      ],
      "source": [
        "answer.head()"
      ]
    }
  ],
  "metadata": {
    "colab": {
      "collapsed_sections": [],
      "name": "titanic-244.ipynb",
      "provenance": []
    },
    "interpreter": {
      "hash": "40d3a090f54c6569ab1632332b64b2c03c39dcf918b08424e98f38b5ae0af88f"
    },
    "kernelspec": {
      "display_name": "Python 3.8.5 64-bit ('base': conda)",
      "name": "python3"
    },
    "language_info": {
      "codemirror_mode": {
        "name": "ipython",
        "version": 3
      },
      "file_extension": ".py",
      "mimetype": "text/x-python",
      "name": "python",
      "nbconvert_exporter": "python",
      "pygments_lexer": "ipython3",
      "version": "3.8.5"
    }
  },
  "nbformat": 4,
  "nbformat_minor": 0
}
